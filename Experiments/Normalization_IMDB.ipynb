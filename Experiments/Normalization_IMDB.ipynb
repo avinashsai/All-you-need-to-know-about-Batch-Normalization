{
  "nbformat": 4,
  "nbformat_minor": 0,
  "metadata": {
    "colab": {
      "name": "Normalization LSTM.ipynb",
      "provenance": [],
      "collapsed_sections": []
    },
    "kernelspec": {
      "name": "python3",
      "display_name": "Python 3"
    },
    "accelerator": "GPU"
  },
  "cells": [
    {
      "cell_type": "code",
      "metadata": {
        "id": "j2CId2cOwNT0",
        "colab_type": "code",
        "outputId": "a4477073-af38-4e71-8b1d-d85d57026b2b",
        "colab": {
          "base_uri": "https://localhost:8080/",
          "height": 34
        }
      },
      "source": [
        "import os\n",
        "import re\n",
        "import sys\n",
        "import time\n",
        "import math\n",
        "import random\n",
        "import pickle\n",
        "from collections import Counter,OrderedDict\n",
        "from copy import deepcopy\n",
        "import numpy as np\n",
        "import pandas as pd\n",
        "import matplotlib.pyplot as plt\n",
        "from sklearn.utils import shuffle\n",
        "from sklearn.metrics import accuracy_score,f1_score\n",
        "from sklearn.model_selection import train_test_split\n",
        "import torch\n",
        "import torch.nn as nn\n",
        "import torch.nn.functional as F\n",
        "import torch.utils.data as U\n",
        "import torch.optim as optim\n",
        "device = torch.device('cuda' if torch.cuda.is_available() else 'cpu')\n",
        "seed = 0\n",
        "print(device)"
      ],
      "execution_count": 1,
      "outputs": [
        {
          "output_type": "stream",
          "text": [
            "cuda\n"
          ],
          "name": "stdout"
        }
      ]
    },
    {
      "cell_type": "markdown",
      "metadata": {
        "id": "wrCvdtXmTjf5",
        "colab_type": "text"
      },
      "source": [
        "#####**Download IMDB Dataset** \n",
        "\n"
      ]
    },
    {
      "cell_type": "code",
      "metadata": {
        "id": "k-W3K5FfWrqr",
        "colab_type": "code",
        "colab": {
          "base_uri": "https://localhost:8080/",
          "height": 765
        },
        "outputId": "6c2b7271-41e2-4a2c-bcb4-f71214f31d00"
      },
      "source": [
        "!wget https://raw.githubusercontent.com/avinashsai/Recurrent-Neural-Filters/master/Datasets/IMDB/testneg.txt\n",
        "!wget https://raw.githubusercontent.com/avinashsai/Recurrent-Neural-Filters/master/Datasets/IMDB/testpos.txt\n",
        "!wget https://raw.githubusercontent.com/avinashsai/Recurrent-Neural-Filters/master/Datasets/IMDB/trainneg.txt\n",
        "!wget https://raw.githubusercontent.com/avinashsai/Recurrent-Neural-Filters/master/Datasets/IMDB/trainpos.txt"
      ],
      "execution_count": 2,
      "outputs": [
        {
          "output_type": "stream",
          "text": [
            "--2020-02-01 12:41:49--  https://raw.githubusercontent.com/avinashsai/Recurrent-Neural-Filters/master/Datasets/IMDB/testneg.txt\n",
            "Resolving raw.githubusercontent.com (raw.githubusercontent.com)... 151.101.0.133, 151.101.64.133, 151.101.128.133, ...\n",
            "Connecting to raw.githubusercontent.com (raw.githubusercontent.com)|151.101.0.133|:443... connected.\n",
            "HTTP request sent, awaiting response... 200 OK\n",
            "Length: 16079828 (15M) [text/plain]\n",
            "Saving to: ‘testneg.txt’\n",
            "\n",
            "testneg.txt         100%[===================>]  15.33M  75.5MB/s    in 0.2s    \n",
            "\n",
            "2020-02-01 12:41:51 (75.5 MB/s) - ‘testneg.txt’ saved [16079828/16079828]\n",
            "\n",
            "--2020-02-01 12:41:53--  https://raw.githubusercontent.com/avinashsai/Recurrent-Neural-Filters/master/Datasets/IMDB/testpos.txt\n",
            "Resolving raw.githubusercontent.com (raw.githubusercontent.com)... 151.101.0.133, 151.101.64.133, 151.101.128.133, ...\n",
            "Connecting to raw.githubusercontent.com (raw.githubusercontent.com)|151.101.0.133|:443... connected.\n",
            "HTTP request sent, awaiting response... 200 OK\n",
            "Length: 16295857 (16M) [text/plain]\n",
            "Saving to: ‘testpos.txt’\n",
            "\n",
            "testpos.txt         100%[===================>]  15.54M  --.-KB/s    in 0.08s   \n",
            "\n",
            "2020-02-01 12:41:54 (203 MB/s) - ‘testpos.txt’ saved [16295857/16295857]\n",
            "\n",
            "--2020-02-01 12:41:55--  https://raw.githubusercontent.com/avinashsai/Recurrent-Neural-Filters/master/Datasets/IMDB/trainneg.txt\n",
            "Resolving raw.githubusercontent.com (raw.githubusercontent.com)... 151.101.0.133, 151.101.64.133, 151.101.128.133, ...\n",
            "Connecting to raw.githubusercontent.com (raw.githubusercontent.com)|151.101.0.133|:443... connected.\n",
            "HTTP request sent, awaiting response... 200 OK\n",
            "Length: 16302492 (16M) [text/plain]\n",
            "Saving to: ‘trainneg.txt’\n",
            "\n",
            "trainneg.txt        100%[===================>]  15.55M  46.7MB/s    in 0.3s    \n",
            "\n",
            "2020-02-01 12:41:57 (46.7 MB/s) - ‘trainneg.txt’ saved [16302492/16302492]\n",
            "\n",
            "--2020-02-01 12:41:59--  https://raw.githubusercontent.com/avinashsai/Recurrent-Neural-Filters/master/Datasets/IMDB/trainpos.txt\n",
            "Resolving raw.githubusercontent.com (raw.githubusercontent.com)... 151.101.0.133, 151.101.64.133, 151.101.128.133, ...\n",
            "Connecting to raw.githubusercontent.com (raw.githubusercontent.com)|151.101.0.133|:443... connected.\n",
            "HTTP request sent, awaiting response... 200 OK\n",
            "Length: 16855331 (16M) [text/plain]\n",
            "Saving to: ‘trainpos.txt’\n",
            "\n",
            "trainpos.txt        100%[===================>]  16.07M  --.-KB/s    in 0.1s    \n",
            "\n",
            "2020-02-01 12:42:00 (157 MB/s) - ‘trainpos.txt’ saved [16855331/16855331]\n",
            "\n"
          ],
          "name": "stdout"
        }
      ]
    },
    {
      "cell_type": "markdown",
      "metadata": {
        "id": "yRNohfDXT0H2",
        "colab_type": "text"
      },
      "source": [
        "##### **Path to Data and glove embeddings. Change vecpath if glove embeddings are in a different path**"
      ]
    },
    {
      "cell_type": "code",
      "metadata": {
        "id": "wsXTuYzq1RtH",
        "colab_type": "code",
        "colab": {}
      },
      "source": [
        "datapath = ''\n",
        "vecpath = 'glove.840B.300d.txt'"
      ],
      "execution_count": 0,
      "outputs": []
    },
    {
      "cell_type": "markdown",
      "metadata": {
        "id": "8yJpbwm7UTtV",
        "colab_type": "text"
      },
      "source": [
        "##### **Comment out first 3 lines if glove embeddings are already downloaded**"
      ]
    },
    {
      "cell_type": "code",
      "metadata": {
        "id": "5ZBZfDr-84cS",
        "colab_type": "code",
        "colab": {}
      },
      "source": [
        "!wget https://nlp.stanford.edu/data/glove.840B.300d.zip\n",
        "!unzip glove.840B.300d.zip\n",
        "!rm -rf glove.840B.30d.zip\n",
        "\n",
        "embedding_index = {}\n",
        "with open(vecpath,'r',encoding='utf-8') as f:\n",
        "    for line in f.readlines():\n",
        "      words = line.split(' ')\n",
        "      word = words[0]\n",
        "      v = torch.from_numpy(np.asarray([w for w in words[1:]],'float32'))\n",
        "      embedding_index[word] = v"
      ],
      "execution_count": 0,
      "outputs": []
    },
    {
      "cell_type": "markdown",
      "metadata": {
        "id": "03GZ4eVYe0vN",
        "colab_type": "text"
      },
      "source": [
        "##### **Parameters Required to train**"
      ]
    },
    {
      "cell_type": "code",
      "metadata": {
        "id": "FRtkN3W1Co65",
        "colab_type": "code",
        "colab": {}
      },
      "source": [
        "maxlen = 300\n",
        "embeddim = 300\n",
        "numclasses = 2\n",
        "batchsize = 64\n",
        "epochs = 50"
      ],
      "execution_count": 0,
      "outputs": []
    },
    {
      "cell_type": "code",
      "metadata": {
        "id": "9isah2KL2Gk7",
        "colab_type": "code",
        "colab": {}
      },
      "source": [
        "## Preprocess Text\n",
        "def preprocess(text):\n",
        "  text = str(text)\n",
        "  text = re.sub(r\"[^A-Za-z0-9(),!?\\'\\`]\", \" \", text)     \n",
        "  text = re.sub(r\"\\'s\", \" \\'s\", text) \n",
        "  text = re.sub(r\"\\'ve\", \" \\'ve\", text) \n",
        "  text = re.sub(r\"n\\'t\", \" n\\'t\", text) \n",
        "  text = re.sub(r\"\\'re\", \" \\'re\", text) \n",
        "  text = re.sub(r\"\\'d\", \" \\'d\", text) \n",
        "  text = re.sub(r\"\\'ll\", \" \\'ll\", text) \n",
        "  text = re.sub(r\",\", \" , \", text) \n",
        "  text = re.sub(r\"!\", \" ! \", text) \n",
        "  text = re.sub(r\"\\(\", \" \\( \", text) \n",
        "  text = re.sub(r\"\\)\", \" \\) \", text) \n",
        "  text = re.sub(r\"\\?\", \" \\? \", text) \n",
        "  text = re.sub(r\"\\s{2,}\", \" \", text)\n",
        "  text = re.sub(r\"<br>\",\" \",text)\n",
        "  text = re.sub(r\"it\\'s\",\"it is\",str(text))\n",
        "  text = re.sub(r\"i\\'d\",\"i would\",str(text))\n",
        "  text = re.sub(r\"don\\'t\",\"do not\",str(text))\n",
        "  text = re.sub(r\"he\\'s\",\"he is\",str(text))\n",
        "  text = re.sub(r\"there\\'s\",\"there is\",str(text))\n",
        "  text = re.sub(r\"that\\'s\",\"that is\",str(text))\n",
        "  text = re.sub(r\"can\\'t\", \"can not\", text)\n",
        "  text = re.sub(r\"cannot\", \"can not \", text)\n",
        "  text = re.sub(r\"what\\'s\", \"what is\", text)\n",
        "  text = re.sub(r\"What\\'s\", \"what is\", text)\n",
        "  text = re.sub(r\"\\'ve \", \" have \", text)\n",
        "  text = re.sub(r\"n\\'t\", \" not \", text)\n",
        "  text = re.sub(r\"i\\'m\", \"i am \", text)\n",
        "  text = re.sub(r\"I\\'m\", \"i am \", text)\n",
        "  text = re.sub(r\"\\'re\", \" are \", text)\n",
        "  text = re.sub(r\"\\'d\", \" would \", text)\n",
        "  text = re.sub(r\"\\'ll\", \" will \", text)\n",
        "  text = re.sub(r\"\\'s\",\" is\",text)    \n",
        "  return text.strip().lower()"
      ],
      "execution_count": 0,
      "outputs": []
    },
    {
      "cell_type": "code",
      "metadata": {
        "id": "cu-89Wyv13Ik",
        "colab_type": "code",
        "outputId": "b95a6e4e-d420-4bc5-bd5f-96ee3bd25985",
        "colab": {
          "base_uri": "https://localhost:8080/",
          "height": 51
        }
      },
      "source": [
        "traindata = []\n",
        "poscount = 0\n",
        "negcount = 0\n",
        "with open(datapath+'trainpos.txt','r',encoding='latin1') as f:\n",
        "  for line in f.readlines():\n",
        "    traindata.append(preprocess(line[:-1]))\n",
        "    poscount+=1\n",
        "\n",
        "with open(datapath+'trainneg.txt','r',encoding='latin1') as f:\n",
        "  for line in f.readlines():\n",
        "    traindata.append(preprocess(line[:-1]))\n",
        "    negcount+=1\n",
        "\n",
        "trainlabels = np.zeros(poscount+negcount)\n",
        "trainlabels[:poscount] = 1\n",
        "\n",
        "print(\"Number of Positive polarity Samples {} \".format(poscount))\n",
        "print(\"Number of Negative polarity Samples {} \".format(negcount))\n"
      ],
      "execution_count": 7,
      "outputs": [
        {
          "output_type": "stream",
          "text": [
            "Number of Positive polarity Samples 12500 \n",
            "Number of Negative polarity Samples 12500 \n"
          ],
          "name": "stdout"
        }
      ]
    },
    {
      "cell_type": "code",
      "metadata": {
        "id": "s3_p5-5xcK7a",
        "colab_type": "code",
        "outputId": "d4459ee5-e8cb-4458-f504-e6184929af5f",
        "colab": {
          "base_uri": "https://localhost:8080/",
          "height": 51
        }
      },
      "source": [
        "testdata = []\n",
        "poscount = 0\n",
        "negcount = 0\n",
        "with open(datapath+'testpos.txt','r',encoding='latin1') as f:\n",
        "  for line in f.readlines():\n",
        "    testdata.append(preprocess(line[:-1]))\n",
        "    poscount+=1\n",
        "\n",
        "with open(datapath+'testneg.txt','r',encoding='latin1') as f:\n",
        "  for line in f.readlines():\n",
        "    testdata.append(preprocess(line[:-1]))\n",
        "    negcount+=1\n",
        "\n",
        "testlabels = np.zeros(poscount+negcount)\n",
        "testlabels[:poscount] = 1\n",
        "\n",
        "print(\"Number of Positive polarity Samples {} \".format(poscount))\n",
        "print(\"Number of Negative polarity Samples {} \".format(negcount))\n"
      ],
      "execution_count": 8,
      "outputs": [
        {
          "output_type": "stream",
          "text": [
            "Number of Positive polarity Samples 12500 \n",
            "Number of Negative polarity Samples 12500 \n"
          ],
          "name": "stdout"
        }
      ]
    },
    {
      "cell_type": "code",
      "metadata": {
        "id": "SWsFpS5514fl",
        "colab_type": "code",
        "outputId": "e22fbf2e-fb8a-47df-e9b6-514193ac4b38",
        "colab": {
          "base_uri": "https://localhost:8080/",
          "height": 68
        }
      },
      "source": [
        "traindata,trainlabels = shuffle(traindata,trainlabels,random_state=0)  ## Shuffle Data for not inducing bias into training data\n",
        "testdata,testlabels = shuffle(testdata,testlabels,random_state=0)\n",
        "traindata, valdata, trainlabels, vallabels = train_test_split(traindata,trainlabels,test_size=0.2,random_state=42)\n",
        "print(\"Training Data Size: {} \".format(len(traindata)))\n",
        "print(\"Validation Data Size: {} \".format(len(valdata)))\n",
        "print(\"Testing Data Size: {} \".format(len(testdata)))"
      ],
      "execution_count": 9,
      "outputs": [
        {
          "output_type": "stream",
          "text": [
            "Training Data Size: 20000 \n",
            "Validation Data Size: 5000 \n",
            "Testing Data Size: 25000 \n"
          ],
          "name": "stdout"
        }
      ]
    },
    {
      "cell_type": "code",
      "metadata": {
        "id": "jp3uW2PNDdeC",
        "colab_type": "code",
        "colab": {}
      },
      "source": [
        "trainlabels = torch.from_numpy(trainlabels)  # Converting Numpy Labels to Torch Labels\n",
        "vallabels = torch.from_numpy(vallabels)\n",
        "testlabels = torch.from_numpy(testlabels)"
      ],
      "execution_count": 0,
      "outputs": []
    },
    {
      "cell_type": "markdown",
      "metadata": {
        "id": "01i7VHl8hToR",
        "colab_type": "text"
      },
      "source": [
        "##### **Takes list of sentences as argument an returns vocabulary**"
      ]
    },
    {
      "cell_type": "code",
      "metadata": {
        "id": "V9jHzp_t7Jpv",
        "colab_type": "code",
        "colab": {}
      },
      "source": [
        "def get_vocab(corpus):\n",
        "  words = []\n",
        "  for sentence in corpus:\n",
        "    words+=sentence.split()\n",
        "  counts = Counter(words).most_common()\n",
        "  counts.insert(0,('<PAD>',0)) ## Index 0 for PAD word\n",
        "  counts.insert(1,('<UNK>',1))  ## Index 1 for OOV word\n",
        "  vocabulary = {}\n",
        "  vocabulary = {word:i for i,(word,_) in enumerate(counts)}\n",
        "  return vocabulary"
      ],
      "execution_count": 0,
      "outputs": []
    },
    {
      "cell_type": "code",
      "metadata": {
        "id": "cjQ4oWA08V40",
        "colab_type": "code",
        "outputId": "d47279e4-6a9b-4406-e778-796737855bde",
        "colab": {
          "base_uri": "https://localhost:8080/",
          "height": 34
        }
      },
      "source": [
        "vocab = get_vocab(traindata)\n",
        "print(\"Vocabulary Size is :\",len(vocab))"
      ],
      "execution_count": 12,
      "outputs": [
        {
          "output_type": "stream",
          "text": [
            "Vocabulary Size is : 74270\n"
          ],
          "name": "stdout"
        }
      ]
    },
    {
      "cell_type": "markdown",
      "metadata": {
        "id": "YCTXCM6khf2e",
        "colab_type": "text"
      },
      "source": [
        "##### **Converts each sentences to corresponding Indices in vocabulary**"
      ]
    },
    {
      "cell_type": "code",
      "metadata": {
        "id": "jhQ5sDms8Ys7",
        "colab_type": "code",
        "colab": {}
      },
      "source": [
        "def get_vectors(sentence,vocabulary):\n",
        "  temp = [vocabulary[word] for word in sentence.split() if word in vocabulary]\n",
        "  vector = [0] * maxlen   ## Pads the sentence to maxlen\n",
        "  curlen = len(temp)\n",
        "  if(maxlen-curlen<0):\n",
        "      vector = temp[:maxlen]\n",
        "  else:\n",
        "      vector[maxlen-curlen:] = temp\n",
        "\n",
        "  return torch.from_numpy(np.asarray(vector,dtype='int32'))"
      ],
      "execution_count": 0,
      "outputs": []
    },
    {
      "cell_type": "code",
      "metadata": {
        "id": "RAi9KEO-CzOp",
        "colab_type": "code",
        "colab": {}
      },
      "source": [
        "def get_data(data,vocabulary):\n",
        "  vectors = torch.zeros(len(data),maxlen)\n",
        "  for i in range(len(data)):\n",
        "      vectors[i] = get_vectors(data[i],vocabulary)\n",
        "  return vectors"
      ],
      "execution_count": 0,
      "outputs": []
    },
    {
      "cell_type": "code",
      "metadata": {
        "id": "c3GZThCEC55U",
        "colab_type": "code",
        "colab": {}
      },
      "source": [
        "trainindices = get_data(traindata,vocab)  ## Training data Indices\n",
        "valindices = get_data(valdata,vocab)    ## Validation data Indices\n",
        "testindices = get_data(testdata,vocab)   ## Testing data Indices"
      ],
      "execution_count": 0,
      "outputs": []
    },
    {
      "cell_type": "code",
      "metadata": {
        "id": "ooFRXHoZDI_4",
        "colab_type": "code",
        "outputId": "80989eba-93ec-4eac-f2e4-c89be564de3d",
        "colab": {
          "base_uri": "https://localhost:8080/",
          "height": 34
        }
      },
      "source": [
        "trainindices.size(),valindices.size(),testindices.size()"
      ],
      "execution_count": 16,
      "outputs": [
        {
          "output_type": "execute_result",
          "data": {
            "text/plain": [
              "(torch.Size([20000, 300]), torch.Size([5000, 300]), torch.Size([25000, 300]))"
            ]
          },
          "metadata": {
            "tags": []
          },
          "execution_count": 16
        }
      ]
    },
    {
      "cell_type": "code",
      "metadata": {
        "id": "YhQNTqUuDUnS",
        "colab_type": "code",
        "colab": {}
      },
      "source": [
        "trainarray = U.TensorDataset(trainindices,trainlabels)\n",
        "trainloader = U.DataLoader(trainarray,batch_size=batchsize)  ## Train Loader \n",
        "\n",
        "valarray = U.TensorDataset(valindices,vallabels)\n",
        "valloader = U.DataLoader(valarray,batch_size=batchsize) ## Validation Loader \n",
        "\n",
        "testarray = U.TensorDataset(testindices,testlabels)\n",
        "testloader = U.DataLoader(testarray,batch_size=batchsize) ## Test Loader "
      ],
      "execution_count": 0,
      "outputs": []
    },
    {
      "cell_type": "code",
      "metadata": {
        "id": "gLGpYJ0iD62S",
        "colab_type": "code",
        "outputId": "00fd04e6-e8b5-472e-ff84-8e12069b2b9e",
        "colab": {
          "base_uri": "https://localhost:8080/",
          "height": 34
        }
      },
      "source": [
        "len(trainloader),len(valloader),len(testloader)"
      ],
      "execution_count": 18,
      "outputs": [
        {
          "output_type": "execute_result",
          "data": {
            "text/plain": [
              "(313, 79, 391)"
            ]
          },
          "metadata": {
            "tags": []
          },
          "execution_count": 18
        }
      ]
    },
    {
      "cell_type": "code",
      "metadata": {
        "id": "SK7jIA9LEB3c",
        "colab_type": "code",
        "colab": {}
      },
      "source": [
        "embedding_matrix = torch.zeros(len(vocab),embeddim).to(device)\n",
        "for i,word in enumerate(vocab):\n",
        "  embedding_vector = embedding_index.get(word)\n",
        "  if(embedding_vector is not None):\n",
        "    embedding_matrix[i] = embedding_vector\n",
        "  elif(word!='<PAD>'):\n",
        "    embedding_matrix[i] = torch.from_numpy(np.random.normal(0,0.1,embeddim)) "
      ],
      "execution_count": 0,
      "outputs": []
    },
    {
      "cell_type": "code",
      "metadata": {
        "id": "u2lZysy9FXZ8",
        "colab_type": "code",
        "outputId": "22a8705a-fb7b-455b-c169-8dfd25b57f90",
        "colab": {
          "base_uri": "https://localhost:8080/",
          "height": 34
        }
      },
      "source": [
        "embedding_matrix.size()"
      ],
      "execution_count": 20,
      "outputs": [
        {
          "output_type": "execute_result",
          "data": {
            "text/plain": [
              "torch.Size([74270, 300])"
            ]
          },
          "metadata": {
            "tags": []
          },
          "execution_count": 20
        }
      ]
    },
    {
      "cell_type": "code",
      "metadata": {
        "id": "CKLGDfwBFadG",
        "colab_type": "code",
        "colab": {}
      },
      "source": [
        "class RMSNorm(nn.Module):\n",
        "  def __init__(self,size,epsilon=1e-5):\n",
        "    super(RMSNorm,self).__init__()\n",
        "    self.gain = nn.Parameter(torch.ones(size))   ## Gain\n",
        "    self.biass = nn.Parameter(torch.zeros(size))  ## Bias\n",
        "    self.epsilon = epsilon\n",
        "  \n",
        "    self.register_parameter('gain',self.gain)\n",
        "    self.register_parameter('biass',self.biass)\n",
        "\n",
        "  def forward(self,x):\n",
        "    x_std = torch.sqrt(torch.mean(x**2,-1,keepdim=True))    ## STD of Tensor along last dimension\n",
        "\n",
        "    x_norm = x /(x_std + self.epsilon)  ## Normalization\n",
        "    x_norm = x_norm * self.gain + self.biass  ## Normalized Tensor\n",
        "    return x_norm"
      ],
      "execution_count": 0,
      "outputs": []
    },
    {
      "cell_type": "code",
      "metadata": {
        "id": "ElNY3ZrAHbSr",
        "colab_type": "code",
        "colab": {}
      },
      "source": [
        "hidden1 = 300\n",
        "hidden2 = 200"
      ],
      "execution_count": 0,
      "outputs": []
    },
    {
      "cell_type": "code",
      "metadata": {
        "id": "bFRoz3UzGD3i",
        "colab_type": "code",
        "colab": {}
      },
      "source": [
        "class ModelwithLayerNorm(nn.Module):\n",
        "  def __init__(self):\n",
        "    super(ModelwithLayerNorm,self).__init__()\n",
        "    self.hiddendim1 = hidden1\n",
        "    self.hiddendim2 = hidden2\n",
        "    self.maxlen = maxlen\n",
        "    self.embeddim = embeddim\n",
        "    self.numclasses = numclasses\n",
        "    self.embed = nn.Embedding.from_pretrained(embedding_matrix,freeze=True)\n",
        "    self.lstm1 = nn.LSTM(self.embeddim,self.hiddendim1,batch_first=True)\n",
        "    self.lstm2 = nn.LSTM(self.hiddendim1,self.hiddendim2,batch_first=True)\n",
        "    self.fc = nn.Linear(self.hiddendim2,numclasses)\n",
        "    self.ln1 = nn.LayerNorm(self.hiddendim1)   ## Layer Norm on First LSTM\n",
        "    self.ln2 = nn.LayerNorm(self.hiddendim2)   ## Layer Norm on Second LSTM\n",
        "\n",
        "  def forward(self,x):\n",
        "    x = self.embed(x)\n",
        "    out,_ = self.lstm1(x)\n",
        "    out = self.ln1(out)\n",
        "    out,_ = self.lstm2(out)\n",
        "    out = self.ln2(out)\n",
        "    out = self.fc(out[:,-1,:])\n",
        "    return out"
      ],
      "execution_count": 0,
      "outputs": []
    },
    {
      "cell_type": "code",
      "metadata": {
        "id": "rlCGtCHNHPQt",
        "colab_type": "code",
        "colab": {}
      },
      "source": [
        "class ModelwithRMSNorm(nn.Module):\n",
        "  def __init__(self):\n",
        "    super(ModelwithRMSNorm,self).__init__()\n",
        "    self.hiddendim1 = hidden1\n",
        "    self.hiddendim2 = hidden2\n",
        "    self.maxlen = maxlen\n",
        "    self.embeddim = embeddim\n",
        "    self.numclasses = numclasses\n",
        "    self.embed = nn.Embedding.from_pretrained(embedding_matrix,freeze=True)\n",
        "    self.lstm1 = nn.LSTM(self.embeddim,self.hiddendim1,batch_first=True)\n",
        "    self.lstm2 = nn.LSTM(self.hiddendim1,self.hiddendim2,batch_first=True)\n",
        "    self.fc = nn.Linear(self.hiddendim2,numclasses)\n",
        "    self.ln1 = RMSNorm(self.hiddendim1)   ## RMS Norm on First LSTM\n",
        "    self.ln2 = RMSNorm(self.hiddendim2)   ## RMS Norm on Second LSTM\n",
        "\n",
        "  def forward(self,x):\n",
        "    x = self.embed(x)\n",
        "    out,_ = self.lstm1(x)\n",
        "    out = self.ln1(out)\n",
        "    out,_ = self.lstm2(out)\n",
        "    out = self.ln2(out)\n",
        "    out = self.fc(out[:,-1,:])\n",
        "    return out"
      ],
      "execution_count": 0,
      "outputs": []
    },
    {
      "cell_type": "code",
      "metadata": {
        "id": "2FicYL1yKF6x",
        "colab_type": "code",
        "colab": {}
      },
      "source": [
        "def evaluate(model,loader):\n",
        "  curloss = 0.0\n",
        "  correct = 0\n",
        "  total = 0\n",
        "  model.eval()\n",
        "  with torch.no_grad():\n",
        "    for indices,labels in loader:\n",
        "      indices = indices.long().to(device)\n",
        "      labels = labels.long().to(device)\n",
        "\n",
        "      total+=indices.size(0)\n",
        "      output = model(indices)\n",
        "      loss = F.cross_entropy(output,labels,reduction='sum')\n",
        "      curloss+=loss.item()\n",
        "      output = torch.max(output,1)[1]\n",
        "      correct+=torch.sum(labels==output).item()\n",
        "\n",
        "    return round((curloss/total),3),round(((correct/total)*100),2)"
      ],
      "execution_count": 0,
      "outputs": []
    },
    {
      "cell_type": "code",
      "metadata": {
        "id": "dML2oJqpKmKY",
        "colab_type": "code",
        "outputId": "fc7dc50e-6f52-4188-edc9-cf9c3e363311",
        "colab": {
          "base_uri": "https://localhost:8080/",
          "height": 1000
        }
      },
      "source": [
        "random.seed(seed)\n",
        "np.random.seed(seed)\n",
        "torch.manual_seed(seed)\n",
        "\n",
        "model1 = ModelwithLayerNorm().to(device)\n",
        "optim1 = optim.Adam(model1.parameters(),lr=0.003)\n",
        "\n",
        "model2 = ModelwithRMSNorm().to(device)\n",
        "optim2 = optim.Adam(model2.parameters(),lr=0.003)\n",
        "\n",
        "model1trainloss = []  # Layer Norm Model Train Loss\n",
        "model2trainloss = []  # RMS Norm Model Train Loss\n",
        "model1trainacc = []   # Layer Norm Model Train Accuracy\n",
        "model2trainacc = []   # RMS Norm Model Train Accuracy\n",
        "model1valloss = []   # Layer Norm Model val Loss\n",
        "model2valloss = []   # RMS Norm Model val Loss\n",
        "model1valacc = []   # Layer Norm Model Val Accuracy\n",
        "model2valacc = []  # RMS Norm Model Val Accuracy\n",
        "\n",
        "patience = 20    ## Early Stopping Patience\n",
        "curpatience = patience\n",
        "\n",
        "print(\"Training Model with RMS Normalization \")\n",
        "print(\"--------------------------------------------------------------------\")\n",
        "curpatience = patience\n",
        "best_model_wts = deepcopy(model2.state_dict())\n",
        "bestvalloss = np.Inf\n",
        "steps2 = 0\n",
        "epochs2 = 0\n",
        "model2.train()\n",
        "for epoch in range(1,epochs+1):\n",
        "  model2.train()\n",
        "  curtrainloss = 0.0\n",
        "  for trainindices,trainlab in trainloader:\n",
        "    trainindices,trainlab = trainindices.long().to(device),trainlab.long().to(device)\n",
        "    model2.zero_grad()\n",
        "    output = model2(trainindices)\n",
        "    loss = F.cross_entropy(output,trainlab,reduction='mean')\n",
        "    loss.backward()\n",
        "    optim2.step()\n",
        "    model2trainloss.append(loss.item())\n",
        "    curtrainloss+=loss.item()\n",
        "    steps2+=1\n",
        "  epochs2+=1\n",
        "  _, curtrainacc = evaluate(model2,trainloader)\n",
        "  curvalloss,curvalacc = evaluate(model2,valloader)\n",
        "  print(\"Epoch {} Train Loss {} Train Accuracy {} \".format(epoch,round(curtrainloss/len(trainloader),3),curtrainacc))\n",
        "  print(\"Validation Loss {} Validation Accuracy {} \".format(curvalloss,curvalacc))\n",
        "  print(\"-----------------------------------------------------------------------------------\")\n",
        "  model2valloss.append(curvalloss)\n",
        "  model2valacc.append(curvalacc)\n",
        "  if(curvalloss<bestvalloss):\n",
        "    bestvalloss = curvalloss \n",
        "    best_model_wts = deepcopy(model2.state_dict())\n",
        "    curpatience = patience\n",
        "  else:\n",
        "    curpatience = curpatience - 1\n",
        "    if(curpatience==0):\n",
        "      break\n",
        "\n",
        "model2 = ModelwithRMSNorm().to(device)\n",
        "model2.load_state_dict(best_model_wts)\n",
        "testloss,testacc = evaluate(model2,testloader)\n",
        "print(\"Test Accuracy (With RMS Normalization) {} \".format(testacc))\n",
        "print(\"----------------------------------------------------------------------------------\")"
      ],
      "execution_count": 52,
      "outputs": [
        {
          "output_type": "stream",
          "text": [
            "Training Model with RMS Normalization \n",
            "--------------------------------------------------------------------\n",
            "Epoch 1 Train Loss 0.686 Train Accuracy 50.09 \n",
            "Validation Loss 0.693 Validation Accuracy 49.64 \n",
            "-----------------------------------------------------------------------------------\n",
            "Epoch 2 Train Loss 0.519 Train Accuracy 86.42 \n",
            "Validation Loss 0.354 Validation Accuracy 85.08 \n",
            "-----------------------------------------------------------------------------------\n",
            "Epoch 3 Train Loss 0.329 Train Accuracy 88.2 \n",
            "Validation Loss 0.352 Validation Accuracy 85.78 \n",
            "-----------------------------------------------------------------------------------\n",
            "Epoch 4 Train Loss 0.284 Train Accuracy 88.96 \n",
            "Validation Loss 0.353 Validation Accuracy 86.28 \n",
            "-----------------------------------------------------------------------------------\n",
            "Epoch 5 Train Loss 0.255 Train Accuracy 89.55 \n",
            "Validation Loss 0.354 Validation Accuracy 86.16 \n",
            "-----------------------------------------------------------------------------------\n",
            "Epoch 6 Train Loss 0.225 Train Accuracy 92.71 \n",
            "Validation Loss 0.347 Validation Accuracy 87.68 \n",
            "-----------------------------------------------------------------------------------\n",
            "Epoch 7 Train Loss 0.201 Train Accuracy 93.11 \n",
            "Validation Loss 0.368 Validation Accuracy 86.92 \n",
            "-----------------------------------------------------------------------------------\n",
            "Epoch 8 Train Loss 0.167 Train Accuracy 94.01 \n",
            "Validation Loss 0.376 Validation Accuracy 86.54 \n",
            "-----------------------------------------------------------------------------------\n",
            "Epoch 9 Train Loss 0.144 Train Accuracy 96.42 \n",
            "Validation Loss 0.431 Validation Accuracy 87.34 \n",
            "-----------------------------------------------------------------------------------\n",
            "Epoch 10 Train Loss 0.127 Train Accuracy 96.91 \n",
            "Validation Loss 0.42 Validation Accuracy 86.72 \n",
            "-----------------------------------------------------------------------------------\n",
            "Epoch 11 Train Loss 0.106 Train Accuracy 97.0 \n",
            "Validation Loss 0.429 Validation Accuracy 86.5 \n",
            "-----------------------------------------------------------------------------------\n",
            "Epoch 12 Train Loss 0.084 Train Accuracy 97.72 \n",
            "Validation Loss 0.471 Validation Accuracy 86.66 \n",
            "-----------------------------------------------------------------------------------\n",
            "Epoch 13 Train Loss 0.071 Train Accuracy 98.36 \n",
            "Validation Loss 0.509 Validation Accuracy 86.42 \n",
            "-----------------------------------------------------------------------------------\n",
            "Epoch 14 Train Loss 0.063 Train Accuracy 98.23 \n",
            "Validation Loss 0.532 Validation Accuracy 86.42 \n",
            "-----------------------------------------------------------------------------------\n",
            "Epoch 15 Train Loss 0.058 Train Accuracy 98.57 \n",
            "Validation Loss 0.554 Validation Accuracy 86.68 \n",
            "-----------------------------------------------------------------------------------\n",
            "Epoch 16 Train Loss 0.051 Train Accuracy 98.69 \n",
            "Validation Loss 0.545 Validation Accuracy 86.28 \n",
            "-----------------------------------------------------------------------------------\n",
            "Epoch 17 Train Loss 0.043 Train Accuracy 99.01 \n",
            "Validation Loss 0.616 Validation Accuracy 86.1 \n",
            "-----------------------------------------------------------------------------------\n",
            "Epoch 18 Train Loss 0.038 Train Accuracy 98.7 \n",
            "Validation Loss 0.599 Validation Accuracy 86.18 \n",
            "-----------------------------------------------------------------------------------\n",
            "Epoch 19 Train Loss 0.032 Train Accuracy 98.83 \n",
            "Validation Loss 0.676 Validation Accuracy 86.12 \n",
            "-----------------------------------------------------------------------------------\n",
            "Epoch 20 Train Loss 0.031 Train Accuracy 99.21 \n",
            "Validation Loss 0.715 Validation Accuracy 86.56 \n",
            "-----------------------------------------------------------------------------------\n",
            "Epoch 21 Train Loss 0.033 Train Accuracy 98.28 \n",
            "Validation Loss 0.757 Validation Accuracy 86.06 \n",
            "-----------------------------------------------------------------------------------\n",
            "Epoch 22 Train Loss 0.029 Train Accuracy 99.39 \n",
            "Validation Loss 0.709 Validation Accuracy 86.76 \n",
            "-----------------------------------------------------------------------------------\n",
            "Epoch 23 Train Loss 0.026 Train Accuracy 98.75 \n",
            "Validation Loss 0.738 Validation Accuracy 85.44 \n",
            "-----------------------------------------------------------------------------------\n",
            "Epoch 24 Train Loss 0.031 Train Accuracy 99.56 \n",
            "Validation Loss 0.802 Validation Accuracy 86.58 \n",
            "-----------------------------------------------------------------------------------\n",
            "Epoch 25 Train Loss 0.025 Train Accuracy 99.31 \n",
            "Validation Loss 0.813 Validation Accuracy 86.26 \n",
            "-----------------------------------------------------------------------------------\n",
            "Epoch 26 Train Loss 0.027 Train Accuracy 99.53 \n",
            "Validation Loss 0.789 Validation Accuracy 85.9 \n",
            "-----------------------------------------------------------------------------------\n",
            "Test Accuracy (With RMS Normalization) 87.92 \n",
            "----------------------------------------------------------------------------------\n"
          ],
          "name": "stdout"
        }
      ]
    },
    {
      "cell_type": "code",
      "metadata": {
        "id": "Eu7dBy1DLvMN",
        "colab_type": "code",
        "colab": {
          "base_uri": "https://localhost:8080/",
          "height": 1000
        },
        "outputId": "57885a82-a909-452b-fa49-b02f07f10235"
      },
      "source": [
        "random.seed(seed)\n",
        "np.random.seed(seed)\n",
        "torch.manual_seed(seed)\n",
        "\n",
        "print(\"Training Model with Layer Normalization \")\n",
        "print(\"----------------------------------------------------------------------------------\")\n",
        "best_model_wts = deepcopy(model1.state_dict())\n",
        "bestvalloss = np.Inf\n",
        "model1.train()\n",
        "steps1 = 0\n",
        "epochs1 = 0\n",
        "for epoch in range(1,epochs+1):\n",
        "  model1.train()\n",
        "  curtrainloss = 0.0\n",
        "  for trainindices,trainlab in trainloader:\n",
        "    trainindices,trainlab = trainindices.long().to(device),trainlab.long().to(device)\n",
        "    model1.zero_grad()\n",
        "    output = model1(trainindices)\n",
        "    loss = F.cross_entropy(output,trainlab,reduction='mean')\n",
        "    loss.backward()\n",
        "    optim1.step()\n",
        "    model1trainloss.append(loss.item())\n",
        "    curtrainloss+=loss.item()\n",
        "    steps1+=1\n",
        "  epochs1+=1\n",
        "  _, curtrainacc = evaluate(model1,trainloader)\n",
        "  curvalloss,curvalacc = evaluate(model1,valloader)\n",
        "  print(\"Epoch {} Train Loss {} Train Accuracy {} \".format(epoch,round(curtrainloss/len(trainloader),3),curtrainacc))\n",
        "  print(\"Validation Loss {} Validation Accuracy {} \".format(curvalloss,curvalacc))\n",
        "  print(\"-----------------------------------------------------------------------------------\")\n",
        "  model1valloss.append(curvalloss)\n",
        "  model1valacc.append(curvalacc)\n",
        "  if(curvalloss<bestvalloss):\n",
        "    bestvalloss = curvalloss\n",
        "    best_model_wts = deepcopy(model1.state_dict())\n",
        "    curpatience = patience\n",
        "  else:\n",
        "    curpatience = curpatience - 1\n",
        "    if(curpatience==0): # Early Stopping\n",
        "      break\n",
        "\n",
        "model1 = ModelwithLayerNorm().to(device)\n",
        "model1.load_state_dict(best_model_wts)\n",
        "testloss,testacc = evaluate(model1,testloader)\n",
        "print(\"Test Accuracy (With Layer Normalization) {} \".format(testacc))"
      ],
      "execution_count": 53,
      "outputs": [
        {
          "output_type": "stream",
          "text": [
            "Training Model with Layer Normalization \n",
            "----------------------------------------------------------------------------------\n",
            "Epoch 1 Train Loss 0.577 Train Accuracy 86.19 \n",
            "Validation Loss 0.372 Validation Accuracy 84.62 \n",
            "-----------------------------------------------------------------------------------\n",
            "Epoch 2 Train Loss 0.322 Train Accuracy 88.23 \n",
            "Validation Loss 0.344 Validation Accuracy 85.82 \n",
            "-----------------------------------------------------------------------------------\n",
            "Epoch 3 Train Loss 0.277 Train Accuracy 90.56 \n",
            "Validation Loss 0.329 Validation Accuracy 87.22 \n",
            "-----------------------------------------------------------------------------------\n",
            "Epoch 4 Train Loss 0.237 Train Accuracy 92.55 \n",
            "Validation Loss 0.326 Validation Accuracy 87.46 \n",
            "-----------------------------------------------------------------------------------\n",
            "Epoch 5 Train Loss 0.203 Train Accuracy 92.72 \n",
            "Validation Loss 0.378 Validation Accuracy 86.62 \n",
            "-----------------------------------------------------------------------------------\n",
            "Epoch 6 Train Loss 0.168 Train Accuracy 95.88 \n",
            "Validation Loss 0.385 Validation Accuracy 87.78 \n",
            "-----------------------------------------------------------------------------------\n",
            "Epoch 7 Train Loss 0.123 Train Accuracy 96.81 \n",
            "Validation Loss 0.435 Validation Accuracy 87.28 \n",
            "-----------------------------------------------------------------------------------\n",
            "Epoch 8 Train Loss 0.105 Train Accuracy 97.08 \n",
            "Validation Loss 0.497 Validation Accuracy 87.2 \n",
            "-----------------------------------------------------------------------------------\n",
            "Epoch 9 Train Loss 0.085 Train Accuracy 96.9 \n",
            "Validation Loss 0.577 Validation Accuracy 85.42 \n",
            "-----------------------------------------------------------------------------------\n",
            "Epoch 10 Train Loss 0.071 Train Accuracy 98.14 \n",
            "Validation Loss 0.547 Validation Accuracy 86.86 \n",
            "-----------------------------------------------------------------------------------\n",
            "Epoch 11 Train Loss 0.053 Train Accuracy 98.78 \n",
            "Validation Loss 0.604 Validation Accuracy 86.96 \n",
            "-----------------------------------------------------------------------------------\n",
            "Epoch 12 Train Loss 0.049 Train Accuracy 98.69 \n",
            "Validation Loss 0.665 Validation Accuracy 86.14 \n",
            "-----------------------------------------------------------------------------------\n",
            "Epoch 13 Train Loss 0.043 Train Accuracy 99.21 \n",
            "Validation Loss 0.645 Validation Accuracy 86.46 \n",
            "-----------------------------------------------------------------------------------\n",
            "Epoch 14 Train Loss 0.038 Train Accuracy 99.25 \n",
            "Validation Loss 0.718 Validation Accuracy 86.78 \n",
            "-----------------------------------------------------------------------------------\n",
            "Epoch 15 Train Loss 0.032 Train Accuracy 98.96 \n",
            "Validation Loss 0.664 Validation Accuracy 86.44 \n",
            "-----------------------------------------------------------------------------------\n",
            "Epoch 16 Train Loss 0.028 Train Accuracy 99.54 \n",
            "Validation Loss 0.76 Validation Accuracy 86.64 \n",
            "-----------------------------------------------------------------------------------\n",
            "Epoch 17 Train Loss 0.018 Train Accuracy 99.27 \n",
            "Validation Loss 0.794 Validation Accuracy 86.26 \n",
            "-----------------------------------------------------------------------------------\n",
            "Epoch 18 Train Loss 0.022 Train Accuracy 98.92 \n",
            "Validation Loss 0.802 Validation Accuracy 85.78 \n",
            "-----------------------------------------------------------------------------------\n",
            "Epoch 19 Train Loss 0.011 Train Accuracy 99.35 \n",
            "Validation Loss 0.953 Validation Accuracy 86.42 \n",
            "-----------------------------------------------------------------------------------\n",
            "Epoch 20 Train Loss 0.015 Train Accuracy 99.28 \n",
            "Validation Loss 0.742 Validation Accuracy 86.92 \n",
            "-----------------------------------------------------------------------------------\n",
            "Epoch 21 Train Loss 0.023 Train Accuracy 99.73 \n",
            "Validation Loss 0.697 Validation Accuracy 86.22 \n",
            "-----------------------------------------------------------------------------------\n",
            "Epoch 22 Train Loss 0.019 Train Accuracy 99.42 \n",
            "Validation Loss 0.835 Validation Accuracy 86.46 \n",
            "-----------------------------------------------------------------------------------\n",
            "Epoch 23 Train Loss 0.02 Train Accuracy 99.64 \n",
            "Validation Loss 0.804 Validation Accuracy 86.18 \n",
            "-----------------------------------------------------------------------------------\n",
            "Epoch 24 Train Loss 0.014 Train Accuracy 99.39 \n",
            "Validation Loss 0.791 Validation Accuracy 86.34 \n",
            "-----------------------------------------------------------------------------------\n",
            "Test Accuracy (With Layer Normalization) 87.97 \n"
          ],
          "name": "stdout"
        }
      ]
    },
    {
      "cell_type": "code",
      "metadata": {
        "id": "1mVuP1imRKDm",
        "colab_type": "code",
        "colab": {}
      },
      "source": [
        "steps = list(range(min(steps1,steps2)))   ## Minimum steps for Both models\n",
        "iterations = list(range(min(epochs1,epochs2))) ## Minimum Epochs before early stopping"
      ],
      "execution_count": 0,
      "outputs": []
    },
    {
      "cell_type": "markdown",
      "metadata": {
        "id": "XcuHFcPTkRNb",
        "colab_type": "text"
      },
      "source": [
        "##### **Plot Training Loss for Both the models**"
      ]
    },
    {
      "cell_type": "code",
      "metadata": {
        "id": "DZTM2LyoUmct",
        "colab_type": "code",
        "outputId": "1c10ca0b-6cba-485f-8e1b-cae46868ba0c",
        "colab": {
          "base_uri": "https://localhost:8080/",
          "height": 573
        }
      },
      "source": [
        "plt.plot(steps,model1trainloss[:len(steps)],label='LayerNorm Training Loss')\n",
        "plt.title('Training Loss for each step')\n",
        "plt.ylabel('Training loss')\n",
        "plt.xlabel('steps')\n",
        "plt.legend()\n",
        "plt.show()\n",
        "\n",
        "plt.plot(steps,model2trainloss[:len(steps)],label='RMSNorm Training Loss')\n",
        "plt.title('Training Loss for each step')\n",
        "plt.ylabel('Training loss')\n",
        "plt.xlabel('steps')\n",
        "plt.legend()\n",
        "plt.show()"
      ],
      "execution_count": 55,
      "outputs": [
        {
          "output_type": "display_data",
          "data": {
            "image/png": "[encoded data removed]",
            "text/plain": [
              "<Figure size 432x288 with 1 Axes>"
            ]
          },
          "metadata": {
            "tags": []
          }
        },
        {
          "output_type": "display_data",
          "data": {
            "image/png": "[encoded data removed]",
            "text/plain": [
              "<Figure size 432x288 with 1 Axes>"
            ]
          },
          "metadata": {
            "tags": []
          }
        }
      ]
    },
    {
      "cell_type": "markdown",
      "metadata": {
        "id": "osaxXIMJkbc-",
        "colab_type": "text"
      },
      "source": [
        "##### **Plot Validation Loss for Both the models**"
      ]
    },
    {
      "cell_type": "code",
      "metadata": {
        "id": "LG6ChsrpVWtt",
        "colab_type": "code",
        "outputId": "d91f5c7b-7209-40fe-bdc8-6210434455a1",
        "colab": {
          "base_uri": "https://localhost:8080/",
          "height": 295
        }
      },
      "source": [
        "plt.plot(iterations,model1valloss[:len(iterations)],label='LayerNorm Validation Loss')\n",
        "plt.plot(iterations,model2valloss[:len(iterations)],label='RMSNorm Validation Loss')\n",
        "plt.title('Validation Loss for each epoch')\n",
        "plt.ylabel('Validation loss')\n",
        "plt.xlabel('Epochs')\n",
        "plt.legend()\n",
        "plt.show()"
      ],
      "execution_count": 56,
      "outputs": [
        {
          "output_type": "display_data",
          "data": {
            "image/png": "[encoded data removed]",
            "text/plain": [
              "<Figure size 432x288 with 1 Axes>"
            ]
          },
          "metadata": {
            "tags": []
          }
        }
      ]
    },
    {
      "cell_type": "markdown",
      "metadata": {
        "id": "KIBZRkwmkfpg",
        "colab_type": "text"
      },
      "source": [
        "##### **Plot Validation Accuracy for Both the models**"
      ]
    },
    {
      "cell_type": "code",
      "metadata": {
        "id": "g83-qtVYZ_Hr",
        "colab_type": "code",
        "outputId": "aa0e3da7-c560-40e4-a3d2-9b8018e72297",
        "colab": {
          "base_uri": "https://localhost:8080/",
          "height": 295
        }
      },
      "source": [
        "plt.plot(iterations,model1valacc[:len(iterations)],label='LayerNorm Validation Accuracy')\n",
        "plt.plot(iterations,model2valacc[:len(iterations)],label='RMSNorm Validation Accuracy')\n",
        "plt.title('Validation Accuracy for each epoch')\n",
        "plt.ylabel('Validation Accuracy')\n",
        "plt.xlabel('Epochs')\n",
        "plt.legend()\n",
        "plt.show()"
      ],
      "execution_count": 57,
      "outputs": [
        {
          "output_type": "display_data",
          "data": {
            "image/png": "[encoded data removed]",
            "text/plain": [
              "<Figure size 432x288 with 1 Axes>"
            ]
          },
          "metadata": {
            "tags": []
          }
        }
      ]
    },
    {
      "cell_type": "code",
      "metadata": {
        "id": "hPehvp2_oCd8",
        "colab_type": "code",
        "colab": {}
      },
      "source": [
        ""
      ],
      "execution_count": 0,
      "outputs": []
    }
  ]
}