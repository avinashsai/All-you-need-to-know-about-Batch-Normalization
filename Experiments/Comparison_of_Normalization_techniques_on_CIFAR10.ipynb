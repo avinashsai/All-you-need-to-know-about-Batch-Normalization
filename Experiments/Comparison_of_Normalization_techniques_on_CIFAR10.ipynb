{
  "nbformat": 4,
  "nbformat_minor": 0,
  "metadata": {
    "colab": {
      "name": "Comparison of Normalization techniques on CIFAR10.ipynb",
      "provenance": [],
      "collapsed_sections": []
    },
    "kernelspec": {
      "name": "python3",
      "display_name": "Python 3"
    },
    "accelerator": "GPU"
  },
  "cells": [
    {
      "cell_type": "code",
      "metadata": {
        "id": "1HgtTZlX8hyV",
        "colab_type": "code",
        "outputId": "cbe7a5e0-db87-451f-b568-4fbdda2ea9fc",
        "colab": {
          "base_uri": "https://localhost:8080/",
          "height": 34
        }
      },
      "source": [
        "import os\n",
        "import re\n",
        "import sys\n",
        "import time\n",
        "import pickle\n",
        "import math\n",
        "import random\n",
        "import string\n",
        "import collections\n",
        "import copy\n",
        "import numpy as np\n",
        "import pandas as pd\n",
        "import matplotlib.pyplot as plt\n",
        "from sklearn.model_selection import train_test_split,StratifiedKFold\n",
        "from sklearn.metrics import accuracy_score,f1_score\n",
        "import torch\n",
        "import torch.nn as nn\n",
        "import torch.nn.functional as F\n",
        "import torch.optim as optim\n",
        "import torch.utils.data\n",
        "import torchvision\n",
        "from torchvision import datasets, transforms\n",
        "from torch.optim.lr_scheduler import StepLR\n",
        "device = torch.device('cuda' if torch.cuda.is_available() else 'cpu')\n",
        "seed = 0\n",
        "print(device)"
      ],
      "execution_count": 1,
      "outputs": [
        {
          "output_type": "stream",
          "text": [
            "cuda\n"
          ],
          "name": "stdout"
        }
      ]
    },
    {
      "cell_type": "code",
      "metadata": {
        "id": "xX2YbC_pQdfj",
        "colab_type": "code",
        "colab": {}
      },
      "source": [
        "transform = transforms.Compose(\n",
        "    [transforms.ToTensor(),\n",
        "     transforms.Normalize((0.5, 0.5, 0.5), (0.5, 0.5, 0.5))])"
      ],
      "execution_count": 0,
      "outputs": []
    },
    {
      "cell_type": "code",
      "metadata": {
        "id": "PeMOxuKJQoQu",
        "colab_type": "code",
        "outputId": "58059809-30b8-42bc-88b2-db7f5237d9ea",
        "colab": {
          "base_uri": "https://localhost:8080/",
          "height": 85
        }
      },
      "source": [
        "trainset = torchvision.datasets.CIFAR10(root=' ', train=True,\n",
        "                                        download=True, transform=transform)\n",
        "trainloader = torch.utils.data.DataLoader(trainset, batch_size=100,\n",
        "                                          shuffle=True, num_workers=1)\n",
        "\n",
        "testset = torchvision.datasets.CIFAR10(root=' ', train=False,\n",
        "                                       download=True, transform=transform)\n",
        "testloader = torch.utils.data.DataLoader(testset, batch_size=100,\n",
        "                                         shuffle=False, num_workers=1)"
      ],
      "execution_count": 3,
      "outputs": [
        {
          "output_type": "stream",
          "text": [
            "\r0it [00:00, ?it/s]"
          ],
          "name": "stderr"
        },
        {
          "output_type": "stream",
          "text": [
            "Downloading https://www.cs.toronto.edu/~kriz/cifar-10-python.tar.gz to  /cifar-10-python.tar.gz\n"
          ],
          "name": "stdout"
        },
        {
          "output_type": "stream",
          "text": [
            "170500096it [00:06, 27760600.85it/s]                               \n"
          ],
          "name": "stderr"
        },
        {
          "output_type": "stream",
          "text": [
            "Extracting  /cifar-10-python.tar.gz to  \n",
            "Files already downloaded and verified\n"
          ],
          "name": "stdout"
        }
      ]
    },
    {
      "cell_type": "code",
      "metadata": {
        "id": "E9xrwDoACK7M",
        "colab_type": "code",
        "colab": {}
      },
      "source": [
        "class NetWithoutNorm(nn.Module):\n",
        "  def __init__(self):\n",
        "    super(NetWithoutNorm,self).__init__()\n",
        "    self.conv1 = nn.Conv2d(3,96,3,1,1)\n",
        "    self.conv2 = nn.Conv2d(96,96,3,1,1)\n",
        "    self.conv3 = nn.Conv2d(96,96,3,1,1)\n",
        "\n",
        "    self.conv4 = nn.Conv2d(96,192,3,1,1)\n",
        "    self.conv5 = nn.Conv2d(192,192,3,1,1)\n",
        "    self.conv6 = nn.Conv2d(192,192,3,1)\n",
        "\n",
        "    self.conv7 = nn.Conv2d(192,192,3,1)\n",
        "    self.conv8 = nn.Conv2d(192,192,1,1)\n",
        "    self.conv9 = nn.Conv2d(192,10,1,1)\n",
        "\n",
        "    self.pool1 = nn.MaxPool2d((3,3),2)\n",
        "    self.pool2 = nn.MaxPool2d((3,3),2)\n",
        "    self.pool3 = nn.AvgPool2d((4,4),1)\n",
        "\n",
        "    self.fc = nn.Linear(10,10)\n",
        "\n",
        "  def forward(self,x):\n",
        "    x = F.dropout2d(x)\n",
        "    out = F.relu(self.conv1(x))\n",
        "    out = F.relu(self.conv2(out))\n",
        "    out = F.relu(self.conv3(out))\n",
        "    out = F.dropout2d(out)\n",
        "    out = self.pool1(out)\n",
        "    out = F.relu(self.conv4(out))\n",
        "    out = F.relu(self.conv5(out))\n",
        "    out = F.relu(self.conv6(out))\n",
        "    out = F.dropout2d(out)\n",
        "    out = self.pool2(out)\n",
        "    out = F.relu(self.conv7(out))\n",
        "    out = F.relu(self.conv8(out))\n",
        "    out = F.relu(self.conv9(out))\n",
        "    out = self.pool3(out)\n",
        "    out = torch.flatten(out,1)\n",
        "    out = self.fc(out)\n",
        "    return out"
      ],
      "execution_count": 0,
      "outputs": []
    },
    {
      "cell_type": "code",
      "metadata": {
        "id": "ch1FcYuvu_K7",
        "colab_type": "code",
        "colab": {}
      },
      "source": [
        "model = NetWithoutNorm().to(device) "
      ],
      "execution_count": 0,
      "outputs": []
    },
    {
      "cell_type": "code",
      "metadata": {
        "id": "4C5oRYdlvLVs",
        "colab_type": "code",
        "outputId": "9ca63955-68f7-488e-9c37-26195cdaca69",
        "colab": {
          "base_uri": "https://localhost:8080/",
          "height": 34
        }
      },
      "source": [
        "p = torch.ones(1,3,32,32).to(device)\n",
        "p = model(p)\n",
        "print(p.size())"
      ],
      "execution_count": 24,
      "outputs": [
        {
          "output_type": "stream",
          "text": [
            "torch.Size([1, 10])\n"
          ],
          "name": "stdout"
        }
      ]
    },
    {
      "cell_type": "code",
      "metadata": {
        "id": "hyHFnwxBXPxu",
        "colab_type": "code",
        "colab": {}
      },
      "source": [
        "class NetBatchNorm(nn.Module):\n",
        "  def __init__(self):\n",
        "    super(NetBatchNorm,self).__init__()\n",
        "    self.conv1 = nn.Conv2d(3,96,3,1,1)\n",
        "    self.conv2 = nn.Conv2d(96,96,3,1,1)\n",
        "    self.conv3 = nn.Conv2d(96,96,3,1,1)\n",
        "\n",
        "    self.conv4 = nn.Conv2d(96,192,3,1,1)\n",
        "    self.conv5 = nn.Conv2d(192,192,3,1,1)\n",
        "    self.conv6 = nn.Conv2d(192,192,3,1)\n",
        "\n",
        "    self.conv7 = nn.Conv2d(192,192,3,1)\n",
        "    self.conv8 = nn.Conv2d(192,192,1,1)\n",
        "    self.conv9 = nn.Conv2d(192,10,1,1)\n",
        "\n",
        "    self.pool1 = nn.MaxPool2d((3,3),2)\n",
        "    self.pool2 = nn.MaxPool2d((3,3),2)\n",
        "    self.pool3 = nn.AvgPool2d((4,4),1)\n",
        "\n",
        "    self.fc = nn.Linear(10,10)\n",
        "\n",
        "    self.bn1 = nn.BatchNorm2d(96)\n",
        "    self.bn2 = nn.BatchNorm2d(96)\n",
        "    self.bn3 = nn.BatchNorm2d(96)\n",
        "    self.bn4 = nn.BatchNorm2d(192)\n",
        "    self.bn5 = nn.BatchNorm2d(192)\n",
        "    self.bn6 = nn.BatchNorm2d(192)\n",
        "    self.bn7 = nn.BatchNorm2d(192)\n",
        "    self.bn8 = nn.BatchNorm2d(192)\n",
        "    self.bn9 = nn.BatchNorm2d(10)\n",
        "  \n",
        "  def forward(self,x):\n",
        "    x = F.dropout2d(x)\n",
        "    out = F.relu(self.bn1(self.conv1(x)))\n",
        "    out = F.relu(self.bn2(self.conv2(out)))\n",
        "    out = F.relu(self.bn3(self.conv3(out)))\n",
        "    out = F.dropout2d(out)\n",
        "    out = self.pool1(out)\n",
        "    out = F.relu(self.bn4(self.conv4(out)))\n",
        "    out = F.relu(self.bn5(self.conv5(out)))\n",
        "    out = F.relu(self.bn6(self.conv6(out)))\n",
        "    out = F.dropout2d(out)\n",
        "    out = self.pool2(out)\n",
        "    out = F.relu(self.bn7(self.conv7(out)))\n",
        "    out = F.relu(self.bn8(self.conv8(out)))\n",
        "    out = F.relu(self.bn9(self.conv9(out)))\n",
        "    out = self.pool3(out)\n",
        "    out = torch.flatten(out,1)\n",
        "    out = self.fc(out)\n",
        "    return out"
      ],
      "execution_count": 0,
      "outputs": []
    },
    {
      "cell_type": "code",
      "metadata": {
        "id": "Xtkf3DG2v4DX",
        "colab_type": "code",
        "colab": {}
      },
      "source": [
        "class RMSNorm(nn.Module):\n",
        "  def __init__(self,size,epsilon=1e-6,isbias=False):\n",
        "    super(RMSNorm,self).__init__()\n",
        "    self.size = size\n",
        "    self.epsilon = epsilon\n",
        "    self.isbias = isbias\n",
        "    self.gain = nn.Parameter(torch.rand(self.size))\n",
        "    self.register_parameter(\"gain\", self.gain)\n",
        "    if(self.isbias):\n",
        "      self.b = nn.Parameter(torch.zeros(self.size))\n",
        "      self.register_parameter(\"bias\",self.b)\n",
        "  def forward(self,x):\n",
        "    if(x.ndim>3):\n",
        "      _,c,h,w = x.size()\n",
        "      rms_x = torch.mean(x**2,dim=(2,3),keepdim=True)\n",
        "      norm_x = x/(torch.sqrt(rms_x + self.epsilon))\n",
        "      norm_x = norm_x.view(-1,h,w,c)\n",
        "      if(self.isbias):\n",
        "        norm_x = norm_x * self.gain + self.b\n",
        "      else:\n",
        "        norm_x = norm_x * self.gain\n",
        "      norm_x = norm_x.view(-1,c,h,w)\n",
        "      return norm_x\n",
        "    else:\n",
        "      rms = math.sqrt(1./self.size) * torch.norm(x,-1,keepdim=True)\n",
        "      norm_x = (x/(rms + self.epsilon))\n",
        "      if(self.isbias):\n",
        "        norm_x = norm_x * self.gain + self.b\n",
        "      else:\n",
        "        norm_x = norm_x * self.gain\n",
        "      return norm_x"
      ],
      "execution_count": 0,
      "outputs": []
    },
    {
      "cell_type": "code",
      "metadata": {
        "id": "79XYBQ9ofAZa",
        "colab_type": "code",
        "colab": {}
      },
      "source": [
        "class NetRMSNorm(nn.Module):\n",
        "  def __init__(self):\n",
        "    super(NetRMSNorm,self).__init__()\n",
        "    self.conv1 = nn.Conv2d(3,96,3,1,1)\n",
        "    self.conv2 = nn.Conv2d(96,96,3,1,1)\n",
        "    self.conv3 = nn.Conv2d(96,96,3,1,1)\n",
        "\n",
        "    self.conv4 = nn.Conv2d(96,192,3,1,1)\n",
        "    self.conv5 = nn.Conv2d(192,192,3,1,1)\n",
        "    self.conv6 = nn.Conv2d(192,192,3,1)\n",
        "\n",
        "    self.conv7 = nn.Conv2d(192,192,3,1)\n",
        "    self.conv8 = nn.Conv2d(192,192,1,1)\n",
        "    self.conv9 = nn.Conv2d(192,10,1,1)\n",
        "\n",
        "    self.pool1 = nn.MaxPool2d((3,3),2)\n",
        "    self.pool2 = nn.MaxPool2d((3,3),2)\n",
        "    self.pool3 = nn.AvgPool2d((4,4),1)\n",
        "\n",
        "    self.fc = nn.Linear(10,10)\n",
        "\n",
        "    self.rn1 = RMSNorm(96)\n",
        "    self.rn2 = RMSNorm(96)\n",
        "    self.rn3 = RMSNorm(96)\n",
        "    self.rn4 = RMSNorm(192)\n",
        "    self.rn5 = RMSNorm(192)\n",
        "    self.rn6 = RMSNorm(192)\n",
        "    self.rn7 = RMSNorm(192)\n",
        "    self.rn8 = RMSNorm(192)\n",
        "    self.rn9 = RMSNorm(10)\n",
        "  \n",
        "  def forward(self,x):\n",
        "    x = F.dropout2d(x)\n",
        "    out = F.relu(self.rn1(self.conv1(x)))\n",
        "    out = F.relu(self.rn2(self.conv2(out)))\n",
        "    out = F.relu(self.rn3(self.conv3(out)))\n",
        "    out = F.dropout2d(out)\n",
        "    out = self.pool1(out)\n",
        "    out = F.relu(self.rn4(self.conv4(out)))\n",
        "    out = F.relu(self.rn5(self.conv5(out)))\n",
        "    out = F.relu(self.rn6(self.conv6(out)))\n",
        "    out = F.dropout2d(out)\n",
        "    out = self.pool2(out)\n",
        "    out = F.relu(self.rn7(self.conv7(out)))\n",
        "    out = F.relu(self.rn8(self.conv8(out)))\n",
        "    out = F.relu(self.rn9(self.conv9(out)))\n",
        "    out = self.pool3(out)\n",
        "    out = torch.flatten(out,1)\n",
        "    out = self.fc(out)\n",
        "    return out"
      ],
      "execution_count": 0,
      "outputs": []
    },
    {
      "cell_type": "code",
      "metadata": {
        "id": "P9c4n-8oiwCu",
        "colab_type": "code",
        "colab": {}
      },
      "source": [
        "def evaluate(net,loader):\n",
        "  correct = 0.0\n",
        "  total = 0.0\n",
        "  curloss = 0.0\n",
        "  with torch.no_grad():\n",
        "    net.eval()\n",
        "    for images,labels in loader:\n",
        "      images, labels = images.to(device), labels.to(device)\n",
        "      output = net(images)\n",
        "      l = F.cross_entropy(output,labels)\n",
        "      output = torch.argmax(output,1)\n",
        "      total+=output.size(0)\n",
        "      correct+=(output==labels).sum().item()\n",
        "      curloss+=l.item()\n",
        "\n",
        "    curloss = curloss/total\n",
        "    acc = (correct/total) * 100\n",
        "    return round(curloss,4),round(acc,3)"
      ],
      "execution_count": 0,
      "outputs": []
    },
    {
      "cell_type": "code",
      "metadata": {
        "id": "42DczAjIiZM8",
        "colab_type": "code",
        "colab": {}
      },
      "source": [
        "numepochs = 200"
      ],
      "execution_count": 0,
      "outputs": []
    },
    {
      "cell_type": "code",
      "metadata": {
        "id": "-4PEJdmbhgIW",
        "colab_type": "code",
        "colab": {
          "base_uri": "https://localhost:8080/",
          "height": 1000
        },
        "outputId": "fb7f999e-c4d5-4d61-fbe8-4cfee238a9ad"
      },
      "source": [
        "random.seed(seed)\n",
        "np.random.seed(seed)\n",
        "torch.manual_seed(seed)\n",
        "\n",
        "model1_train_loss = []\n",
        "model1_train_acc = []\n",
        "model1 = NetWithoutNorm().to(device)\n",
        "optim1 = optim.Adam(model1.parameters(),lr=0.0003)\n",
        "model1.train()\n",
        "print(\"Training Without Normalization \")\n",
        "print(\"------------------------------------------------------------------------------\")\n",
        "for epoch in range(1,numepochs+1):\n",
        "  model1.train()\n",
        "  for images,labels in trainloader:\n",
        "    images,labels = images.to(device),labels.to(device)\n",
        "    model1.zero_grad()\n",
        "    output = model1(images)\n",
        "    loss = F.cross_entropy(output,labels)\n",
        "    loss.backward()\n",
        "    optim1.step()\n",
        "\n",
        "  curtrainloss, curtrainacc = evaluate(model1,trainloader)\n",
        "  if(epoch%10==0):\n",
        "    print(\"Epoch {} Train Loss {} Train Accuracy {} \".format(epoch,curtrainloss,curtrainacc))\n",
        "  model1_train_loss.append(curtrainloss)\n",
        "  model1_train_acc.append(curtrainacc)\n",
        "\n",
        "curtestloss, curtestacc = evaluate(model1,testloader)\n",
        "print(\"Model 1 (Without Normalization) Test Accuracy {} \".format(curtestacc))\n",
        "print(\"------------------------------------------------------------------------------\")\n",
        "print(\"------------------------------------------------------------------------------\")\n",
        "print(\"Training With Batch Normalization \")\n",
        "model2_train_loss = []\n",
        "model2_train_acc = []\n",
        "model2 = NetBatchNorm().to(device)\n",
        "optim2 = optim.Adam(model2.parameters(),lr=0.003)\n",
        "model2.train()\n",
        "for epoch in range(1,numepochs+1):\n",
        "  model2.train()\n",
        "  for images,labels in trainloader:\n",
        "    images,labels = images.to(device),labels.to(device)\n",
        "    model2.zero_grad()\n",
        "    output = model2(images)\n",
        "    loss = F.cross_entropy(output,labels)\n",
        "    loss.backward()\n",
        "    optim2.step()\n",
        "\n",
        "  curtrainloss, curtrainacc = evaluate(model2,trainloader)\n",
        "  if(epoch%10==0):\n",
        "    print(\"Epoch {} Train Loss {} Train Accuracy {} \".format(epoch,curtrainloss,curtrainacc))\n",
        "  model2_train_loss.append(curtrainloss)\n",
        "  model2_train_acc.append(curtrainacc)\n",
        "\n",
        "curtestloss, curtestacc = evaluate(model2,testloader)\n",
        "print(\"Model 2 (With Batch Normalization) Accuracy {} \".format(curtestacc))\n",
        "print(\"------------------------------------------------------------------------------\")\n",
        "print(\"------------------------------------------------------------------------------\")\n",
        "print(\"Training With RMS Normalization \")\n",
        "model3_train_loss = []\n",
        "model3_train_acc = []\n",
        "model3 = NetRMSNorm().to(device)\n",
        "optim3 = optim.Adam(model3.parameters(),lr=0.003)\n",
        "model3.train()\n",
        "for epoch in range(1,numepochs+1):\n",
        "  model3.train()\n",
        "  for images,labels in trainloader:\n",
        "    images,labels = images.to(device),labels.to(device)\n",
        "    model3.zero_grad()\n",
        "    output = model3(images)\n",
        "    loss = F.cross_entropy(output,labels)\n",
        "    loss.backward()\n",
        "    optim3.step()\n",
        "\n",
        "  curtrainloss, curtrainacc = evaluate(model3,trainloader)\n",
        "  if(epoch%10==0):\n",
        "    print(\"Epoch {} Train Loss {} Train Accuracy {} \".format(epoch,curtrainloss,curtrainacc))\n",
        "  model3_train_loss.append(curtrainloss)\n",
        "  model3_train_acc.append(curtrainacc)\n",
        "\n",
        "curtestloss, curtestacc = evaluate(model3,testloader)\n",
        "print(\"Model 3 (With RMS Normalization) Accuracy {} \".format(curtestacc))"
      ],
      "execution_count": 31,
      "outputs": [
        {
          "output_type": "stream",
          "text": [
            "Training Without Normalization \n",
            "------------------------------------------------------------------------------\n",
            "Epoch 10 Train Loss 0.0125 Train Accuracy 54.932 \n",
            "Epoch 20 Train Loss 0.0097 Train Accuracy 65.032 \n",
            "Epoch 30 Train Loss 0.0085 Train Accuracy 69.412 \n",
            "Epoch 40 Train Loss 0.0077 Train Accuracy 72.248 \n",
            "Epoch 50 Train Loss 0.0068 Train Accuracy 75.232 \n",
            "Epoch 60 Train Loss 0.0064 Train Accuracy 76.346 \n",
            "Epoch 70 Train Loss 0.006 Train Accuracy 77.772 \n",
            "Epoch 80 Train Loss 0.0056 Train Accuracy 79.41 \n",
            "Epoch 90 Train Loss 0.0054 Train Accuracy 79.764 \n",
            "Epoch 100 Train Loss 0.0052 Train Accuracy 80.652 \n",
            "Epoch 110 Train Loss 0.0049 Train Accuracy 81.794 \n",
            "Epoch 120 Train Loss 0.0047 Train Accuracy 82.534 \n",
            "Epoch 130 Train Loss 0.0046 Train Accuracy 82.852 \n",
            "Epoch 140 Train Loss 0.0046 Train Accuracy 82.874 \n",
            "Epoch 150 Train Loss 0.0045 Train Accuracy 83.26 \n",
            "Epoch 160 Train Loss 0.0043 Train Accuracy 83.63 \n",
            "Epoch 170 Train Loss 0.0043 Train Accuracy 83.798 \n",
            "Epoch 180 Train Loss 0.0043 Train Accuracy 83.792 \n",
            "Epoch 190 Train Loss 0.0041 Train Accuracy 84.482 \n",
            "Epoch 200 Train Loss 0.0042 Train Accuracy 84.342 \n",
            "Model 1 (Without Normalization) Test Accuracy 71.53 \n",
            "------------------------------------------------------------------------------\n",
            "------------------------------------------------------------------------------\n",
            "Training With Batch Normalization \n",
            "Epoch 10 Train Loss 0.0092 Train Accuracy 67.112 \n",
            "Epoch 20 Train Loss 0.0071 Train Accuracy 74.052 \n",
            "Epoch 30 Train Loss 0.006 Train Accuracy 77.958 \n",
            "Epoch 40 Train Loss 0.0054 Train Accuracy 79.942 \n",
            "Epoch 50 Train Loss 0.0051 Train Accuracy 81.152 \n",
            "Epoch 60 Train Loss 0.0046 Train Accuracy 82.712 \n",
            "Epoch 70 Train Loss 0.0043 Train Accuracy 83.698 \n",
            "Epoch 80 Train Loss 0.0043 Train Accuracy 83.952 \n",
            "Epoch 90 Train Loss 0.0041 Train Accuracy 84.544 \n",
            "Epoch 100 Train Loss 0.0039 Train Accuracy 85.186 \n",
            "Epoch 110 Train Loss 0.0038 Train Accuracy 85.384 \n",
            "Epoch 120 Train Loss 0.0038 Train Accuracy 85.608 \n",
            "Epoch 130 Train Loss 0.0038 Train Accuracy 85.386 \n",
            "Epoch 140 Train Loss 0.0037 Train Accuracy 85.99 \n",
            "Epoch 150 Train Loss 0.0036 Train Accuracy 86.226 \n",
            "Epoch 160 Train Loss 0.0035 Train Accuracy 86.624 \n",
            "Epoch 170 Train Loss 0.0036 Train Accuracy 86.236 \n",
            "Epoch 180 Train Loss 0.0036 Train Accuracy 86.326 \n",
            "Epoch 190 Train Loss 0.0034 Train Accuracy 86.802 \n",
            "Epoch 200 Train Loss 0.0035 Train Accuracy 86.598 \n",
            "Model 2 (With Batch Normalization) Accuracy 72.94 \n",
            "------------------------------------------------------------------------------\n",
            "------------------------------------------------------------------------------\n",
            "Training With RMS Normalization \n",
            "Epoch 10 Train Loss 0.0121 Train Accuracy 56.132 \n",
            "Epoch 20 Train Loss 0.0093 Train Accuracy 66.21 \n",
            "Epoch 30 Train Loss 0.0076 Train Accuracy 72.09 \n",
            "Epoch 40 Train Loss 0.0065 Train Accuracy 76.144 \n",
            "Epoch 50 Train Loss 0.0057 Train Accuracy 78.986 \n",
            "Epoch 60 Train Loss 0.0052 Train Accuracy 80.276 \n",
            "Epoch 70 Train Loss 0.0047 Train Accuracy 82.192 \n",
            "Epoch 80 Train Loss 0.0045 Train Accuracy 82.93 \n",
            "Epoch 90 Train Loss 0.0045 Train Accuracy 83.026 \n",
            "Epoch 100 Train Loss 0.0041 Train Accuracy 84.536 \n",
            "Epoch 110 Train Loss 0.0041 Train Accuracy 84.63 \n",
            "Epoch 120 Train Loss 0.0039 Train Accuracy 85.282 \n",
            "Epoch 130 Train Loss 0.0038 Train Accuracy 85.76 \n",
            "Epoch 140 Train Loss 0.0038 Train Accuracy 85.712 \n",
            "Epoch 150 Train Loss 0.0037 Train Accuracy 85.886 \n",
            "Epoch 160 Train Loss 0.0036 Train Accuracy 86.358 \n",
            "Epoch 170 Train Loss 0.0036 Train Accuracy 86.236 \n",
            "Epoch 180 Train Loss 0.0035 Train Accuracy 86.544 \n",
            "Epoch 190 Train Loss 0.0034 Train Accuracy 86.766 \n",
            "Epoch 200 Train Loss 0.0035 Train Accuracy 86.774 \n",
            "Model 3 (With RMS Normalization) Accuracy 67.3 \n"
          ],
          "name": "stdout"
        }
      ]
    },
    {
      "cell_type": "code",
      "metadata": {
        "id": "JzFVjt7Jb9w2",
        "colab_type": "code",
        "colab": {
          "base_uri": "https://localhost:8080/",
          "height": 295
        },
        "outputId": "cbd01f80-de3f-46bb-9398-843e0194f0ee"
      },
      "source": [
        "iterations = list(range(numepochs))\n",
        "plt.plot(model1_train_loss, iterations, 'r', label='No Normalization') # plotting model1 train loss separately \n",
        "plt.plot(model2_train_loss, iterations, 'b', label='Batch Normalization') # plotting model2 train loss separately \n",
        "plt.plot(model3_train_loss, iterations, 'g', label='RMS Normalization') # plotting model3 train loss separately \n",
        "plt.xlabel('Training Loss')\n",
        "plt.ylabel('Epochs')\n",
        "plt.title('Training Loss vs Epochs')\n",
        "plt.legend()\n",
        "plt.show()"
      ],
      "execution_count": 35,
      "outputs": [
        {
          "output_type": "display_data",
          "data": {
            "image/png": "[encoded data removed]",
            "text/plain": [
              "<Figure size 432x288 with 1 Axes>"
            ]
          },
          "metadata": {
            "tags": []
          }
        }
      ]
    },
    {
      "cell_type": "code",
      "metadata": {
        "id": "-WSOJG-3ncZr",
        "colab_type": "code",
        "colab": {
          "base_uri": "https://localhost:8080/",
          "height": 295
        },
        "outputId": "749a7224-cda2-4720-d3fa-8a83f4e4ec4f"
      },
      "source": [
        "plt.plot(model1_train_acc, iterations, 'r', label='No Normalization') # plotting model1 train accuracy separately \n",
        "plt.plot(model2_train_acc, iterations, 'b', label='Batch Normalization') # plotting model2 train accuracy separately \n",
        "plt.plot(model3_train_acc, iterations, 'g', label='RMS Normalization') # plotting model3 train accuracy separately \n",
        "plt.legend()\n",
        "plt.xlabel('Training Accuracy')\n",
        "plt.ylabel('Epochs')\n",
        "plt.title('Training Accuracy vs Epochs')\n",
        "plt.show()"
      ],
      "execution_count": 36,
      "outputs": [
        {
          "output_type": "display_data",
          "data": {
            "image/png": "[encoded data removed]",
            "text/plain": [
              "<Figure size 432x288 with 1 Axes>"
            ]
          },
          "metadata": {
            "tags": []
          }
        }
      ]
    },
    {
      "cell_type": "code",
      "metadata": {
        "id": "Z7fXr3wGDD8f",
        "colab_type": "code",
        "colab": {}
      },
      "source": [
        ""
      ],
      "execution_count": 0,
      "outputs": []
    }
  ]
}