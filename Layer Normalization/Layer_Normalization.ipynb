{
  "nbformat": 4,
  "nbformat_minor": 0,
  "metadata": {
    "colab": {
      "name": "Layer Normalization.ipynb",
      "provenance": [],
      "collapsed_sections": []
    },
    "kernelspec": {
      "name": "python3",
      "display_name": "Python 3"
    },
    "accelerator": "GPU"
  },
  "cells": [
    {
      "cell_type": "code",
      "metadata": {
        "id": "j2CId2cOwNT0",
        "colab_type": "code",
        "colab": {
          "base_uri": "https://localhost:8080/",
          "height": 34
        },
        "outputId": "dfa152fc-48d1-496f-de47-67e6eeb9a68a"
      },
      "source": [
        "import os\n",
        "import re\n",
        "import sys\n",
        "import time\n",
        "import math\n",
        "import random\n",
        "import pickle\n",
        "from collections import Counter,OrderedDict\n",
        "from copy import deepcopy\n",
        "import numpy as np\n",
        "import pandas as pd\n",
        "import matplotlib.pyplot as plt\n",
        "from sklearn.utils import shuffle\n",
        "from sklearn.metrics import accuracy_score,f1_score\n",
        "from sklearn.model_selection import train_test_split\n",
        "import torch\n",
        "import torch.nn as nn\n",
        "import torch.nn.functional as F\n",
        "import torch.utils.data as U\n",
        "import torch.optim as optim\n",
        "device = torch.device('cuda' if torch.cuda.is_available() else 'cpu')\n",
        "seed = 0\n",
        "print(device)"
      ],
      "execution_count": 61,
      "outputs": [
        {
          "output_type": "stream",
          "text": [
            "cuda\n"
          ],
          "name": "stdout"
        }
      ]
    },
    {
      "cell_type": "markdown",
      "metadata": {
        "id": "wrCvdtXmTjf5",
        "colab_type": "text"
      },
      "source": [
        "#####**Download Rotten Tomatoes Dataset and Unzips it** "
      ]
    },
    {
      "cell_type": "code",
      "metadata": {
        "id": "o-hwGc28x5Xn",
        "colab_type": "code",
        "colab": {}
      },
      "source": [
        "!wget https://www.cs.cornell.edu/people/pabo/movie-review-data/rt-polaritydata.tar.gz"
      ],
      "execution_count": 0,
      "outputs": []
    },
    {
      "cell_type": "code",
      "metadata": {
        "id": "h53JwumV1INS",
        "colab_type": "code",
        "colab": {
          "base_uri": "https://localhost:8080/",
          "height": 68
        },
        "outputId": "1267bf00-0e14-4368-b4a9-3f38158c9a2f"
      },
      "source": [
        "!tar -xvf rt-polaritydata.tar.gz"
      ],
      "execution_count": 5,
      "outputs": [
        {
          "output_type": "stream",
          "text": [
            "rt-polaritydata.README.1.0.txt\n",
            "rt-polaritydata/rt-polarity.neg\n",
            "rt-polaritydata/rt-polarity.pos\n"
          ],
          "name": "stdout"
        }
      ]
    },
    {
      "cell_type": "markdown",
      "metadata": {
        "id": "yRNohfDXT0H2",
        "colab_type": "text"
      },
      "source": [
        "##### **Path to Data and glove embeddings. Change vecpath if glove embeddings are in a different path**"
      ]
    },
    {
      "cell_type": "code",
      "metadata": {
        "id": "wsXTuYzq1RtH",
        "colab_type": "code",
        "colab": {}
      },
      "source": [
        "datapath = 'rt-polaritydata/'\n",
        "vecpath = 'glove.840B.300d.txt'"
      ],
      "execution_count": 0,
      "outputs": []
    },
    {
      "cell_type": "markdown",
      "metadata": {
        "id": "8yJpbwm7UTtV",
        "colab_type": "text"
      },
      "source": [
        "##### **Comment out first 3 lines if glove embeddings are already downloaded**"
      ]
    },
    {
      "cell_type": "code",
      "metadata": {
        "id": "5ZBZfDr-84cS",
        "colab_type": "code",
        "colab": {}
      },
      "source": [
        "!wget https://nlp.stanford.edu/data/glove.840B.300d.zip\n",
        "!unzip glove.840B.300d.zip\n",
        "!rm -rf glove.840B.30d.zip\n",
        "\n",
        "embedding_index = {}\n",
        "with open(vecpath,'r',encoding='utf-8') as f:\n",
        "    for line in f.readlines():\n",
        "      words = line.split(' ')\n",
        "      word = words[0]\n",
        "      v = torch.from_numpy(np.asarray([w for w in words[1:]],'float32'))\n",
        "      embedding_index[word] = v"
      ],
      "execution_count": 0,
      "outputs": []
    },
    {
      "cell_type": "markdown",
      "metadata": {
        "id": "03GZ4eVYe0vN",
        "colab_type": "text"
      },
      "source": [
        "##### **Parameters Required to train**"
      ]
    },
    {
      "cell_type": "code",
      "metadata": {
        "id": "FRtkN3W1Co65",
        "colab_type": "code",
        "colab": {}
      },
      "source": [
        "maxlen = 59\n",
        "embeddim = 300\n",
        "numclasses = 2\n",
        "batchsize = 16\n",
        "epochs = 100"
      ],
      "execution_count": 0,
      "outputs": []
    },
    {
      "cell_type": "code",
      "metadata": {
        "id": "9isah2KL2Gk7",
        "colab_type": "code",
        "colab": {}
      },
      "source": [
        "## Preprocess Text taken from Kim CNN preprocessing\n",
        "def preprocess(text):\n",
        "  text = str(text)\n",
        "  text = re.sub(r\"[^A-Za-z0-9(),!?\\'\\`]\", \" \", text)     \n",
        "  text = re.sub(r\"\\'s\", \" \\'s\", text) \n",
        "  text = re.sub(r\"\\'ve\", \" \\'ve\", text) \n",
        "  text = re.sub(r\"n\\'t\", \" n\\'t\", text) \n",
        "  text = re.sub(r\"\\'re\", \" \\'re\", text) \n",
        "  text = re.sub(r\"\\'d\", \" \\'d\", text) \n",
        "  text = re.sub(r\"\\'ll\", \" \\'ll\", text) \n",
        "  text = re.sub(r\",\", \" , \", text) \n",
        "  text = re.sub(r\"!\", \" ! \", text) \n",
        "  text = re.sub(r\"\\(\", \" \\( \", text) \n",
        "  text = re.sub(r\"\\)\", \" \\) \", text) \n",
        "  text = re.sub(r\"\\?\", \" \\? \", text) \n",
        "  text = re.sub(r\"\\s{2,}\", \" \", text)    \n",
        "  return text.strip().lower()"
      ],
      "execution_count": 0,
      "outputs": []
    },
    {
      "cell_type": "code",
      "metadata": {
        "id": "cu-89Wyv13Ik",
        "colab_type": "code",
        "colab": {
          "base_uri": "https://localhost:8080/",
          "height": 51
        },
        "outputId": "800a9541-3855-4919-e502-9532170c4c7d"
      },
      "source": [
        "data = []\n",
        "poscount = 0\n",
        "negcount = 0\n",
        "with open(datapath+'rt-polarity.pos','r',encoding='latin1') as f:\n",
        "  for line in f.readlines():\n",
        "    data.append(preprocess(line[:-1]))\n",
        "    poscount+=1\n",
        "\n",
        "with open(datapath+'rt-polarity.neg','r',encoding='latin1') as f:\n",
        "  for line in f.readlines():\n",
        "    data.append(preprocess(line[:-1]))\n",
        "    negcount+=1\n",
        "\n",
        "labels = np.zeros(poscount+negcount)\n",
        "labels[:poscount] = 1\n",
        "\n",
        "print(\"Number of Positive polarity Samples {} \".format(poscount))\n",
        "print(\"Number of Negative polarity Samples {} \".format(negcount))\n"
      ],
      "execution_count": 12,
      "outputs": [
        {
          "output_type": "stream",
          "text": [
            "Number of Positive polarity Samples 5331 \n",
            "Number of Negative polarity Samples 5331 \n"
          ],
          "name": "stdout"
        }
      ]
    },
    {
      "cell_type": "code",
      "metadata": {
        "id": "SWsFpS5514fl",
        "colab_type": "code",
        "colab": {
          "base_uri": "https://localhost:8080/",
          "height": 68
        },
        "outputId": "192af561-222a-4f13-d6cb-c712982431dd"
      },
      "source": [
        "data,labels = shuffle(data,labels,random_state=0)  ## Shuffle Data for not inducing bias into training data\n",
        "traindata, testdata, trainlabels, testlabels = train_test_split(data,labels,test_size=0.1,random_state=42)\n",
        "traindata, valdata, trainlabels, vallabels = train_test_split(traindata,trainlabels,test_size=0.1,random_state=42)\n",
        "print(\"Training Data Size: {} \".format(len(traindata)))\n",
        "print(\"Validation Data Size: {} \".format(len(valdata)))\n",
        "print(\"Testing Data Size: {} \".format(len(testdata)))"
      ],
      "execution_count": 15,
      "outputs": [
        {
          "output_type": "stream",
          "text": [
            "Training Data Size: 8635 \n",
            "Validation Data Size: 960 \n",
            "Testing Data Size: 1067 \n"
          ],
          "name": "stdout"
        }
      ]
    },
    {
      "cell_type": "code",
      "metadata": {
        "id": "jp3uW2PNDdeC",
        "colab_type": "code",
        "colab": {}
      },
      "source": [
        "trainlabels = torch.from_numpy(trainlabels)  # Converting Numpy Labels to Torch Labels\n",
        "vallabels = torch.from_numpy(vallabels)\n",
        "testlabels = torch.from_numpy(testlabels)"
      ],
      "execution_count": 0,
      "outputs": []
    },
    {
      "cell_type": "markdown",
      "metadata": {
        "id": "01i7VHl8hToR",
        "colab_type": "text"
      },
      "source": [
        "##### **Takes list of sentences as argument an returns vocabulary**"
      ]
    },
    {
      "cell_type": "code",
      "metadata": {
        "id": "V9jHzp_t7Jpv",
        "colab_type": "code",
        "colab": {}
      },
      "source": [
        "def get_vocab(corpus):\n",
        "  words = []\n",
        "  for sentence in corpus:\n",
        "    words+=sentence.split()\n",
        "  counts = Counter(words).most_common()\n",
        "  counts.insert(0,('<PAD>',0)) ## Index 0 for PAD word\n",
        "  counts.insert(1,('<UNK>',1))  ## Index 1 for OOV word\n",
        "  vocabulary = {}\n",
        "  vocabulary = {word:i for i,(word,_) in enumerate(counts)}\n",
        "  return vocabulary"
      ],
      "execution_count": 0,
      "outputs": []
    },
    {
      "cell_type": "code",
      "metadata": {
        "id": "cjQ4oWA08V40",
        "colab_type": "code",
        "colab": {
          "base_uri": "https://localhost:8080/",
          "height": 34
        },
        "outputId": "18fc8a6d-8a8a-4beb-fa5d-b326a9eb768e"
      },
      "source": [
        "vocab = get_vocab(traindata)\n",
        "print(\"Vocabulary Size is :\",len(vocab))"
      ],
      "execution_count": 22,
      "outputs": [
        {
          "output_type": "stream",
          "text": [
            "Vocabulary Size is : 17013\n"
          ],
          "name": "stdout"
        }
      ]
    },
    {
      "cell_type": "markdown",
      "metadata": {
        "id": "YCTXCM6khf2e",
        "colab_type": "text"
      },
      "source": [
        "##### **Converts each sentences to corresponding Indices in vocabulary**"
      ]
    },
    {
      "cell_type": "code",
      "metadata": {
        "id": "jhQ5sDms8Ys7",
        "colab_type": "code",
        "colab": {}
      },
      "source": [
        "def get_vectors(sentence,vocabulary):\n",
        "  temp = [vocabulary[word] for word in sentence.split() if word in vocabulary]\n",
        "  vector = [0] * maxlen   ## Pads the sentence to maxlen\n",
        "  curlen = len(temp)\n",
        "  if(maxlen-curlen<0):\n",
        "      vector = temp[:maxlen]\n",
        "  else:\n",
        "      vector[maxlen-curlen:] = temp\n",
        "\n",
        "  return torch.from_numpy(np.asarray(vector,dtype='int32'))"
      ],
      "execution_count": 0,
      "outputs": []
    },
    {
      "cell_type": "code",
      "metadata": {
        "id": "RAi9KEO-CzOp",
        "colab_type": "code",
        "colab": {}
      },
      "source": [
        "def get_data(data,vocabulary):\n",
        "  vectors = torch.zeros(len(data),maxlen)\n",
        "  for i in range(len(data)):\n",
        "      vectors[i] = get_vectors(data[i],vocabulary)\n",
        "  return vectors"
      ],
      "execution_count": 0,
      "outputs": []
    },
    {
      "cell_type": "code",
      "metadata": {
        "id": "c3GZThCEC55U",
        "colab_type": "code",
        "colab": {}
      },
      "source": [
        "trainindices = get_data(traindata,vocab)  ## Training data Indices\n",
        "valindices = get_data(valdata,vocab)    ## Validation data Indices\n",
        "testindices = get_data(testdata,vocab)   ## Testing data Indices"
      ],
      "execution_count": 0,
      "outputs": []
    },
    {
      "cell_type": "code",
      "metadata": {
        "id": "ooFRXHoZDI_4",
        "colab_type": "code",
        "colab": {
          "base_uri": "https://localhost:8080/",
          "height": 34
        },
        "outputId": "318fecd3-5d9e-4917-dad9-fc2592495a0c"
      },
      "source": [
        "trainindices.size(),valindices.size(),testindices.size()"
      ],
      "execution_count": 31,
      "outputs": [
        {
          "output_type": "execute_result",
          "data": {
            "text/plain": [
              "(torch.Size([8635, 59]), torch.Size([960, 59]), torch.Size([1067, 59]))"
            ]
          },
          "metadata": {
            "tags": []
          },
          "execution_count": 31
        }
      ]
    },
    {
      "cell_type": "code",
      "metadata": {
        "id": "YhQNTqUuDUnS",
        "colab_type": "code",
        "colab": {}
      },
      "source": [
        "trainarray = U.TensorDataset(trainindices,trainlabels)\n",
        "trainloader = U.DataLoader(trainarray,batch_size=batchsize)  ## Train Loader \n",
        "\n",
        "valarray = U.TensorDataset(valindices,vallabels)\n",
        "valloader = U.DataLoader(valarray,batch_size=batchsize) ## Validation Loader \n",
        "\n",
        "testarray = U.TensorDataset(testindices,testlabels)\n",
        "testloader = U.DataLoader(testarray,batch_size=batchsize) ## Test Loader "
      ],
      "execution_count": 0,
      "outputs": []
    },
    {
      "cell_type": "code",
      "metadata": {
        "id": "gLGpYJ0iD62S",
        "colab_type": "code",
        "colab": {
          "base_uri": "https://localhost:8080/",
          "height": 34
        },
        "outputId": "47340cd8-2229-49ed-9da6-1f675c550e58"
      },
      "source": [
        "len(trainloader),len(valloader),len(testloader)"
      ],
      "execution_count": 34,
      "outputs": [
        {
          "output_type": "execute_result",
          "data": {
            "text/plain": [
              "(540, 60, 67)"
            ]
          },
          "metadata": {
            "tags": []
          },
          "execution_count": 34
        }
      ]
    },
    {
      "cell_type": "code",
      "metadata": {
        "id": "SK7jIA9LEB3c",
        "colab_type": "code",
        "colab": {}
      },
      "source": [
        "embedding_matrix = torch.zeros(len(vocab),embeddim).to(device)\n",
        "for i,word in enumerate(vocab):\n",
        "  embedding_vector = embedding_index.get(word)\n",
        "  if(embedding_vector is not None):\n",
        "    embedding_matrix[i] = embedding_vector\n",
        "  elif(word!='<PAD>'):\n",
        "    embedding_matrix[i] = torch.from_numpy(np.random.normal(0,0.1,embeddim)) "
      ],
      "execution_count": 0,
      "outputs": []
    },
    {
      "cell_type": "code",
      "metadata": {
        "id": "u2lZysy9FXZ8",
        "colab_type": "code",
        "colab": {
          "base_uri": "https://localhost:8080/",
          "height": 34
        },
        "outputId": "63fbb6bc-b4e9-4a84-8c20-833131e6cbd2"
      },
      "source": [
        "embedding_matrix.size()"
      ],
      "execution_count": 36,
      "outputs": [
        {
          "output_type": "execute_result",
          "data": {
            "text/plain": [
              "torch.Size([17013, 300])"
            ]
          },
          "metadata": {
            "tags": []
          },
          "execution_count": 36
        }
      ]
    },
    {
      "cell_type": "code",
      "metadata": {
        "id": "CKLGDfwBFadG",
        "colab_type": "code",
        "colab": {}
      },
      "source": [
        "class LayerNorm(nn.Module):\n",
        "  def __init__(self,size,epsilon=1e-8):\n",
        "    super(LayerNorm,self).__init__()\n",
        "    self.alpha = nn.Parameter(torch.ones(size))   ## Alpha\n",
        "    self.biass = nn.Parameter(torch.zeros(size))  ## Bias\n",
        "    self.epsilon = epsilon\n",
        "  \n",
        "    self.register_parameter('alpha',self.alpha)\n",
        "    self.register_parameter('biass',self.biass)\n",
        "\n",
        "  def forward(self,x):\n",
        "    x_mean = torch.mean(x,-1,keepdim=True)  ## Mean of Tensor along last dimension\n",
        "    x_std = x.std(-1,keepdim=True)     ## STD of Tensor along last dimension\n",
        "\n",
        "    x_norm = (x - x_mean)/(x_std + self.epsilon)  ## Normalization\n",
        "    x_norm = x_norm * self.alpha + self.biass  ## Normalized Tensor\n",
        "    return x_norm"
      ],
      "execution_count": 0,
      "outputs": []
    },
    {
      "cell_type": "code",
      "metadata": {
        "id": "ElNY3ZrAHbSr",
        "colab_type": "code",
        "colab": {}
      },
      "source": [
        "hidden1 = 200\n",
        "hidden2 = 100"
      ],
      "execution_count": 0,
      "outputs": []
    },
    {
      "cell_type": "code",
      "metadata": {
        "id": "rlCGtCHNHPQt",
        "colab_type": "code",
        "colab": {}
      },
      "source": [
        "class ModelwithNorm(nn.Module):\n",
        "  def __init__(self):\n",
        "    super(ModelwithNorm,self).__init__()\n",
        "    self.hiddendim1 = hidden1\n",
        "    self.hiddendim2 = hidden2\n",
        "    self.maxlen = maxlen\n",
        "    self.embeddim = embeddim\n",
        "    self.numclasses = numclasses\n",
        "    self.embed = nn.Embedding.from_pretrained(embedding_matrix,freeze=False)\n",
        "    self.lstm1 = nn.LSTM(self.embeddim,self.hiddendim1,batch_first=True)\n",
        "    self.lstm2 = nn.LSTM(self.hiddendim1,self.hiddendim2,batch_first=True)\n",
        "    self.fc = nn.Linear(self.hiddendim2,numclasses)\n",
        "    self.ln1 = LayerNorm(self.hiddendim1)   ## Layer Norm on First LSTM\n",
        "    self.ln2 = LayerNorm(self.hiddendim2)   ## Layer Norm on Second LSTM\n",
        "\n",
        "  def forward(self,x):\n",
        "    x = self.embed(x)\n",
        "    out,_ = self.lstm1(x)\n",
        "    out = self.ln1(out)\n",
        "    out,_ = self.lstm2(out)\n",
        "    out = self.ln2(out)\n",
        "    out = self.fc(out[:,-1,:])\n",
        "    return out"
      ],
      "execution_count": 0,
      "outputs": []
    },
    {
      "cell_type": "code",
      "metadata": {
        "id": "rgHlu7SKJTwW",
        "colab_type": "code",
        "colab": {}
      },
      "source": [
        "model1 = ModelwithNorm().to(device)"
      ],
      "execution_count": 0,
      "outputs": []
    },
    {
      "cell_type": "code",
      "metadata": {
        "id": "B9rSUmOQJZVD",
        "colab_type": "code",
        "colab": {
          "base_uri": "https://localhost:8080/",
          "height": 34
        },
        "outputId": "17a515ae-7cdc-4ce1-c344-acea27281f1c"
      },
      "source": [
        "p = torch.ones([3,maxlen]).long().to(device)\n",
        "outp = model1(p)\n",
        "print(outp.size())"
      ],
      "execution_count": 123,
      "outputs": [
        {
          "output_type": "stream",
          "text": [
            "torch.Size([3, 2])\n"
          ],
          "name": "stdout"
        }
      ]
    },
    {
      "cell_type": "code",
      "metadata": {
        "id": "QRtAfw5iJpdE",
        "colab_type": "code",
        "colab": {}
      },
      "source": [
        "class ModelwithoutNorm(nn.Module):\n",
        "  def __init__(self):\n",
        "    super(ModelwithoutNorm,self).__init__()\n",
        "    self.hiddendim1 = hidden1\n",
        "    self.hiddendim2 = hidden2\n",
        "    self.maxlen = maxlen\n",
        "    self.embeddim = embeddim\n",
        "    self.numclasses = numclasses\n",
        "    self.embed = nn.Embedding.from_pretrained(embedding_matrix,freeze=False)\n",
        "    self.lstm1 = nn.LSTM(self.embeddim,self.hiddendim1,batch_first=True)\n",
        "    self.lstm2 = nn.LSTM(self.hiddendim1,self.hiddendim2,batch_first=True)\n",
        "    self.fc = nn.Linear(self.hiddendim2,numclasses)\n",
        "\n",
        "  def forward(self,x):\n",
        "    x = self.embed(x)\n",
        "    out,_ = self.lstm1(x)\n",
        "    out,_ = self.lstm2(out)\n",
        "    out = self.fc(out[:,-1,:])\n",
        "    return out"
      ],
      "execution_count": 0,
      "outputs": []
    },
    {
      "cell_type": "code",
      "metadata": {
        "id": "GJJgEzQpJ6Rq",
        "colab_type": "code",
        "colab": {}
      },
      "source": [
        "model2 = ModelwithoutNorm().to(device)"
      ],
      "execution_count": 0,
      "outputs": []
    },
    {
      "cell_type": "code",
      "metadata": {
        "id": "DrSnrYsKJ9Qo",
        "colab_type": "code",
        "colab": {
          "base_uri": "https://localhost:8080/",
          "height": 34
        },
        "outputId": "c945454a-c951-4af6-bd3d-e1dd29567095"
      },
      "source": [
        "outp = model2(p)\n",
        "print(outp.size())"
      ],
      "execution_count": 126,
      "outputs": [
        {
          "output_type": "stream",
          "text": [
            "torch.Size([3, 2])\n"
          ],
          "name": "stdout"
        }
      ]
    },
    {
      "cell_type": "code",
      "metadata": {
        "id": "2FicYL1yKF6x",
        "colab_type": "code",
        "colab": {}
      },
      "source": [
        "def evaluate(model,loader):\n",
        "  curloss = 0.0\n",
        "  correct = 0\n",
        "  total = 0\n",
        "  model.eval()\n",
        "  with torch.no_grad():\n",
        "    for indices,labels in loader:\n",
        "      indices = indices.long().to(device)\n",
        "      labels = labels.long().to(device)\n",
        "\n",
        "      total+=indices.size(0)\n",
        "      output = model(indices)\n",
        "      loss = F.cross_entropy(output,labels,reduction='sum')\n",
        "      curloss+=loss.item()\n",
        "      output = torch.max(output,1)[1]\n",
        "      correct+=torch.sum(labels==output).item()\n",
        "\n",
        "    return round((curloss/total),3),round(((correct/total)*100),2)"
      ],
      "execution_count": 0,
      "outputs": []
    },
    {
      "cell_type": "code",
      "metadata": {
        "id": "dML2oJqpKmKY",
        "colab_type": "code",
        "colab": {
          "base_uri": "https://localhost:8080/",
          "height": 1000
        },
        "outputId": "34ec2423-127c-44b7-a0e9-d92ab16ed709"
      },
      "source": [
        "random.seed(seed)\n",
        "np.random.seed(seed)\n",
        "torch.manual_seed(seed)\n",
        "\n",
        "model1 = ModelwithNorm().to(device)\n",
        "optim1 = optim.SGD(model1.parameters(),lr=0.01,momentum=0.9)\n",
        "\n",
        "model2 = ModelwithoutNorm().to(device)\n",
        "optim2 = optim.SGD(model2.parameters(),lr=0.01,momentum=0.9)\n",
        "\n",
        "model1trainloss = []  # Layer Norm Model Train Loss\n",
        "model2trainloss = []  # No Norm Model Train Loss\n",
        "model1trainacc = []   # Layer Norm Model Train Accuracy\n",
        "model2trainacc = []   # No Norm Model Train Accuracy\n",
        "model1valloss = []   # Layer Norm Model val Loss\n",
        "model2valloss = []   # No Norm Model val Loss\n",
        "model1valacc = []   # Layer Norm Model Val Accuracy\n",
        "model2valacc = []  # No Norm Model Val Accuracy\n",
        "\n",
        "patience = 10    ## Early Stopping Patience\n",
        "curpatience = patience\n",
        "\n",
        "print(\"Training Model with Layer Normalization \")\n",
        "print(\"--------------------------------------------------------------------\")\n",
        "best_model_wts = deepcopy(model1.state_dict())\n",
        "bestvalloss = np.Inf\n",
        "model1.train()\n",
        "steps1 = 0\n",
        "epochs1 = 0\n",
        "for epoch in range(1,epochs+1):\n",
        "  model1.train()\n",
        "  curtrainloss = 0.0\n",
        "  for trainindices,trainlab in trainloader:\n",
        "    trainindices,trainlab = trainindices.long().to(device),trainlab.long().to(device)\n",
        "    model1.zero_grad()\n",
        "    output = model1(trainindices)\n",
        "    loss = F.cross_entropy(output,trainlab,reduction='mean')\n",
        "    loss.backward()\n",
        "    optim1.step()\n",
        "    model1trainloss.append(loss.item())\n",
        "    curtrainloss+=loss.item()\n",
        "    steps1+=1\n",
        "  epochs1+=1\n",
        "  _, curtrainacc = evaluate(model1,trainloader)\n",
        "  curvalloss,curvalacc = evaluate(model1,valloader)\n",
        "  print(\"Epoch {} Train Loss {} Train Accuracy {} \".format(epoch,round(curtrainloss/len(trainloader),3),curtrainacc))\n",
        "  print(\"Validation Loss {} Validation Accuracy {} \".format(curvalloss,curvalacc))\n",
        "  print(\"-----------------------------------------------------------------------------------\")\n",
        "  model1valloss.append(curvalloss)\n",
        "  model1valacc.append(curvalacc)\n",
        "  if(curvalloss<bestvalloss):\n",
        "    bestvalloss = curvalloss\n",
        "    best_model_wts = deepcopy(model1.state_dict())\n",
        "    curpatience = patience\n",
        "  else:\n",
        "    curpatience = curpatience - 1\n",
        "    if(curpatience==0): # Early Stopping\n",
        "      break\n",
        "\n",
        "model1 = ModelwithNorm().to(device)\n",
        "model1.load_state_dict(best_model_wts)\n",
        "testloss,testacc = evaluate(model1,testloader)\n",
        "print(\"Test Accuracy (With Layer Normalization) {} \".format(testacc))\n",
        "print(\"--------------------------------------------------------------------\")\n",
        "print(\"--------------------------------------------------------------------\")\n",
        "print(\"Training Model without Layer Normalization \")\n",
        "print(\"--------------------------------------------------------------------\")\n",
        "curpatience = patience\n",
        "best_model_wts = deepcopy(model2.state_dict())\n",
        "bestvalloss = np.Inf\n",
        "steps2 = 0\n",
        "epochs2 = 0\n",
        "model2.train()\n",
        "for epoch in range(1,epochs+1):\n",
        "  model2.train()\n",
        "  curtrainloss = 0.0\n",
        "  for trainindices,trainlab in trainloader:\n",
        "    trainindices,trainlab = trainindices.long().to(device),trainlab.long().to(device)\n",
        "    model2.zero_grad()\n",
        "    output = model2(trainindices)\n",
        "    loss = F.cross_entropy(output,trainlab,reduction='mean')\n",
        "    loss.backward()\n",
        "    optim2.step()\n",
        "    model2trainloss.append(loss.item())\n",
        "    curtrainloss+=loss.item()\n",
        "    steps2+=1\n",
        "  epochs2+=1\n",
        "  _, curtrainacc = evaluate(model2,trainloader)\n",
        "  curvalloss,curvalacc = evaluate(model2,valloader)\n",
        "  print(\"Epoch {} Train Loss {} Train Accuracy {} \".format(epoch,round(curtrainloss/len(trainloader),3),curtrainacc))\n",
        "  print(\"Validation Loss {} Validation Accuracy {} \".format(curvalloss,curvalacc))\n",
        "  print(\"-----------------------------------------------------------------------------------\")\n",
        "  model2valloss.append(curvalloss)\n",
        "  model2valacc.append(curvalacc)\n",
        "  if(curvalloss<bestvalloss):\n",
        "    bestvalloss = curvalloss \n",
        "    best_model_wts = deepcopy(model2.state_dict())\n",
        "    curpatience = patience\n",
        "  else:\n",
        "    curpatience = curpatience - 1\n",
        "    if(curpatience==0):\n",
        "      break\n",
        "\n",
        "model2 = ModelwithoutNorm().to(device)\n",
        "model2.load_state_dict(best_model_wts)\n",
        "testloss,testacc = evaluate(model2,testloader)\n",
        "print(\"Test Accuracy (Without Layer Normalization) {} \".format(testacc))"
      ],
      "execution_count": 142,
      "outputs": [
        {
          "output_type": "stream",
          "text": [
            "Training Model with Layer Normalization \n",
            "--------------------------------------------------------------------\n",
            "Epoch 1 Train Loss 0.209 Train Accuracy 96.34 \n",
            "Validation Loss 0.607 Validation Accuracy 79.48 \n",
            "-----------------------------------------------------------------------------------\n",
            "Epoch 2 Train Loss 0.105 Train Accuracy 97.57 \n",
            "Validation Loss 0.731 Validation Accuracy 79.27 \n",
            "-----------------------------------------------------------------------------------\n",
            "Epoch 3 Train Loss 0.067 Train Accuracy 97.68 \n",
            "Validation Loss 0.743 Validation Accuracy 78.44 \n",
            "-----------------------------------------------------------------------------------\n",
            "Epoch 4 Train Loss 0.059 Train Accuracy 98.38 \n",
            "Validation Loss 1.002 Validation Accuracy 78.85 \n",
            "-----------------------------------------------------------------------------------\n",
            "Epoch 5 Train Loss 0.045 Train Accuracy 97.12 \n",
            "Validation Loss 1.341 Validation Accuracy 76.25 \n",
            "-----------------------------------------------------------------------------------\n",
            "Epoch 6 Train Loss 0.029 Train Accuracy 98.98 \n",
            "Validation Loss 1.436 Validation Accuracy 77.5 \n",
            "-----------------------------------------------------------------------------------\n",
            "Epoch 7 Train Loss 0.025 Train Accuracy 99.22 \n",
            "Validation Loss 1.412 Validation Accuracy 78.33 \n",
            "-----------------------------------------------------------------------------------\n",
            "Epoch 8 Train Loss 0.02 Train Accuracy 99.66 \n",
            "Validation Loss 1.401 Validation Accuracy 79.17 \n",
            "-----------------------------------------------------------------------------------\n",
            "Epoch 9 Train Loss 0.016 Train Accuracy 99.63 \n",
            "Validation Loss 1.411 Validation Accuracy 78.12 \n",
            "-----------------------------------------------------------------------------------\n",
            "Epoch 10 Train Loss 0.015 Train Accuracy 99.71 \n",
            "Validation Loss 1.464 Validation Accuracy 79.69 \n",
            "-----------------------------------------------------------------------------------\n",
            "Epoch 11 Train Loss 0.009 Train Accuracy 99.76 \n",
            "Validation Loss 1.612 Validation Accuracy 79.69 \n",
            "-----------------------------------------------------------------------------------\n",
            "Test Accuracy (With Layer Normalization) 75.26 \n",
            "--------------------------------------------------------------------\n",
            "--------------------------------------------------------------------\n",
            "Training Model without Layer Normalization \n",
            "--------------------------------------------------------------------\n",
            "Epoch 1 Train Loss 0.475 Train Accuracy 88.8 \n",
            "Validation Loss 0.537 Validation Accuracy 76.56 \n",
            "-----------------------------------------------------------------------------------\n",
            "Epoch 2 Train Loss 0.143 Train Accuracy 96.78 \n",
            "Validation Loss 0.587 Validation Accuracy 78.96 \n",
            "-----------------------------------------------------------------------------------\n",
            "Epoch 3 Train Loss 0.094 Train Accuracy 97.08 \n",
            "Validation Loss 0.634 Validation Accuracy 79.48 \n",
            "-----------------------------------------------------------------------------------\n",
            "Epoch 4 Train Loss 0.071 Train Accuracy 98.23 \n",
            "Validation Loss 0.685 Validation Accuracy 78.96 \n",
            "-----------------------------------------------------------------------------------\n",
            "Epoch 5 Train Loss 0.054 Train Accuracy 98.24 \n",
            "Validation Loss 0.789 Validation Accuracy 77.6 \n",
            "-----------------------------------------------------------------------------------\n",
            "Epoch 6 Train Loss 0.043 Train Accuracy 98.97 \n",
            "Validation Loss 0.808 Validation Accuracy 79.06 \n",
            "-----------------------------------------------------------------------------------\n",
            "Epoch 7 Train Loss 0.034 Train Accuracy 99.24 \n",
            "Validation Loss 0.89 Validation Accuracy 78.65 \n",
            "-----------------------------------------------------------------------------------\n",
            "Epoch 8 Train Loss 0.028 Train Accuracy 99.41 \n",
            "Validation Loss 0.934 Validation Accuracy 78.85 \n",
            "-----------------------------------------------------------------------------------\n",
            "Epoch 9 Train Loss 0.021 Train Accuracy 99.44 \n",
            "Validation Loss 0.978 Validation Accuracy 78.65 \n",
            "-----------------------------------------------------------------------------------\n",
            "Epoch 10 Train Loss 0.017 Train Accuracy 99.61 \n",
            "Validation Loss 1.07 Validation Accuracy 78.96 \n",
            "-----------------------------------------------------------------------------------\n",
            "Epoch 11 Train Loss 0.012 Train Accuracy 99.76 \n",
            "Validation Loss 1.169 Validation Accuracy 78.85 \n",
            "-----------------------------------------------------------------------------------\n",
            "Test Accuracy (Without Layer Normalization) 73.1 \n"
          ],
          "name": "stdout"
        }
      ]
    },
    {
      "cell_type": "code",
      "metadata": {
        "id": "1mVuP1imRKDm",
        "colab_type": "code",
        "colab": {}
      },
      "source": [
        "steps = list(range(min(steps1,steps2)))   ## Minimum steps for Both models\n",
        "iterations = list(range(min(epochs1,epochs2))) ## Minimum Epochs before early stopping"
      ],
      "execution_count": 0,
      "outputs": []
    },
    {
      "cell_type": "markdown",
      "metadata": {
        "id": "XcuHFcPTkRNb",
        "colab_type": "text"
      },
      "source": [
        "##### **Plot Training Loss for Both the models**"
      ]
    },
    {
      "cell_type": "code",
      "metadata": {
        "id": "DZTM2LyoUmct",
        "colab_type": "code",
        "colab": {
          "base_uri": "https://localhost:8080/",
          "height": 573
        },
        "outputId": "2e9007cb-3e31-4847-cc79-7d54837f74ce"
      },
      "source": [
        "plt.plot(steps,model1trainloss[:len(steps)],label='LayerNorm Training Loss')\n",
        "plt.title('Training Loss for each step')\n",
        "plt.ylabel('Training loss')\n",
        "plt.xlabel('steps')\n",
        "plt.legend()\n",
        "plt.show()\n",
        "\n",
        "plt.plot(steps,model2trainloss[:len(steps)],label='No LayerNorm Training Loss')\n",
        "plt.title('Training Loss for each step')\n",
        "plt.ylabel('Training loss')\n",
        "plt.xlabel('steps')\n",
        "plt.legend()\n",
        "plt.show()"
      ],
      "execution_count": 144,
      "outputs": [
        {
          "output_type": "display_data",
          "data": {
            "image/png": "[encoded data removed]",
            "text/plain": [
              "<Figure size 432x288 with 1 Axes>"
            ]
          },
          "metadata": {
            "tags": []
          }
        },
        {
          "output_type": "display_data",
          "data": {
            "image/png": "[encoded data removed]",
            "text/plain": [
              "<Figure size 432x288 with 1 Axes>"
            ]
          },
          "metadata": {
            "tags": []
          }
        }
      ]
    },
    {
      "cell_type": "markdown",
      "metadata": {
        "id": "osaxXIMJkbc-",
        "colab_type": "text"
      },
      "source": [
        "##### **Plot Validation Loss for Both the models**"
      ]
    },
    {
      "cell_type": "code",
      "metadata": {
        "id": "LG6ChsrpVWtt",
        "colab_type": "code",
        "colab": {
          "base_uri": "https://localhost:8080/",
          "height": 295
        },
        "outputId": "8833491b-f521-48d2-c360-d27085d7913e"
      },
      "source": [
        "plt.plot(iterations,model1valloss[:len(iterations)],label='LayerNorm Validation Loss')\n",
        "plt.plot(iterations,model2valloss[:len(iterations)],label='No LayerNorm Validation Loss')\n",
        "plt.title('Validation Loss for each epoch')\n",
        "plt.ylabel('Validation loss')\n",
        "plt.xlabel('Epochs')\n",
        "plt.legend()\n",
        "plt.show()"
      ],
      "execution_count": 145,
      "outputs": [
        {
          "output_type": "display_data",
          "data": {
            "image/png": "[encoded data removed]",
            "text/plain": [
              "<Figure size 432x288 with 1 Axes>"
            ]
          },
          "metadata": {
            "tags": []
          }
        }
      ]
    },
    {
      "cell_type": "markdown",
      "metadata": {
        "id": "KIBZRkwmkfpg",
        "colab_type": "text"
      },
      "source": [
        "##### **Plot Validation Accuracy for Both the models**"
      ]
    },
    {
      "cell_type": "code",
      "metadata": {
        "id": "g83-qtVYZ_Hr",
        "colab_type": "code",
        "colab": {
          "base_uri": "https://localhost:8080/",
          "height": 295
        },
        "outputId": "c4c773c0-3449-415a-f6c0-96e2f6f1e02b"
      },
      "source": [
        "plt.plot(iterations,model1valacc[:len(iterations)],label='LayerNorm Validation Accuracy')\n",
        "plt.plot(iterations,model2valacc[:len(iterations)],label='No LayerNorm Validation Accuracy')\n",
        "plt.title('Validation Accuracy for each epoch')\n",
        "plt.ylabel('Validation Accuracy')\n",
        "plt.xlabel('Epochs')\n",
        "plt.legend()\n",
        "plt.show()"
      ],
      "execution_count": 146,
      "outputs": [
        {
          "output_type": "display_data",
          "data": {
            "image/png": "[encoded data removed]",
            "text/plain": [
              "<Figure size 432x288 with 1 Axes>"
            ]
          },
          "metadata": {
            "tags": []
          }
        }
      ]
    },
    {
      "cell_type": "markdown",
      "metadata": {
        "id": "TMWIbVy4k1AH",
        "colab_type": "text"
      },
      "source": [
        "###### **Conclusion:**\n",
        "###### Clearly Layer Normalization showed better performance than when no normalization is applied on LSTM\n",
        "##### 1. LayerNorm achieved good performance in fewer training steps.\n",
        "##### 2. Training Loss constantly decreased across training steps.\n",
        "##### 3. Time required to train is also very less"
      ]
    },
    {
      "cell_type": "code",
      "metadata": {
        "id": "8MvyKFcVgsgG",
        "colab_type": "code",
        "colab": {}
      },
      "source": [
        ""
      ],
      "execution_count": 0,
      "outputs": []
    }
  ]
}